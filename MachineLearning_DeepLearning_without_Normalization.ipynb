{
 "cells": [
  {
   "cell_type": "markdown",
   "metadata": {},
   "source": [
    "# This program is the implementation of Machine Learning and Deep Learning Techniques such as: Logistic Regression, Decision Tree, Random Forest, SVM, and DNN methods with MinMax Normalization ([0,1]-Normalizaton)\n",
    "# All right reserved by Delowar Hossain, E-mail: delowar_cse_ru@yahoo.com"
   ]
  },
  {
   "cell_type": "code",
   "execution_count": 1,
   "metadata": {},
   "outputs": [],
   "source": [
    "# This code is the original code with 100 epochs for TP1\n",
    "# with Logistic Regression, DNN, Decision Tree, Random Forest, and SVM methods\n",
    "# ROC Curve together\n",
    "# This version is clean on and created on August 18, 2020"
   ]
  },
  {
   "cell_type": "code",
   "execution_count": 2,
   "metadata": {},
   "outputs": [
    {
     "data": {
      "text/html": [
       "<div>\n",
       "<style scoped>\n",
       "    .dataframe tbody tr th:only-of-type {\n",
       "        vertical-align: middle;\n",
       "    }\n",
       "\n",
       "    .dataframe tbody tr th {\n",
       "        vertical-align: top;\n",
       "    }\n",
       "\n",
       "    .dataframe thead th {\n",
       "        text-align: right;\n",
       "    }\n",
       "</style>\n",
       "<table border=\"1\" class=\"dataframe\">\n",
       "  <thead>\n",
       "    <tr style=\"text-align: right;\">\n",
       "      <th></th>\n",
       "      <th>Abs error X</th>\n",
       "      <th>Abs error Y</th>\n",
       "      <th>Abs error XY</th>\n",
       "      <th>Variability X</th>\n",
       "      <th>Variability Y</th>\n",
       "      <th>Variability XY</th>\n",
       "      <th>Contraction expansion ratio X</th>\n",
       "      <th>Contraction expansion ratio Y</th>\n",
       "      <th>Contraction expansion ratio XY</th>\n",
       "      <th>Shift X</th>\n",
       "      <th>Shift Y</th>\n",
       "      <th>Shift XY</th>\n",
       "      <th>Task Score</th>\n",
       "      <th>data_type</th>\n",
       "    </tr>\n",
       "  </thead>\n",
       "  <tbody>\n",
       "    <tr>\n",
       "      <td>0</td>\n",
       "      <td>-0.655069</td>\n",
       "      <td>-1.595675</td>\n",
       "      <td>-1.238965</td>\n",
       "      <td>-0.632909</td>\n",
       "      <td>-1.305108</td>\n",
       "      <td>-0.869893</td>\n",
       "      <td>-0.201238</td>\n",
       "      <td>0.243281</td>\n",
       "      <td>0.075277</td>\n",
       "      <td>-0.576372</td>\n",
       "      <td>0.156761</td>\n",
       "      <td>-0.427542</td>\n",
       "      <td>0.015397</td>\n",
       "      <td>control</td>\n",
       "    </tr>\n",
       "    <tr>\n",
       "      <td>1</td>\n",
       "      <td>0.891985</td>\n",
       "      <td>1.857968</td>\n",
       "      <td>1.380032</td>\n",
       "      <td>1.265856</td>\n",
       "      <td>3.083174</td>\n",
       "      <td>1.810506</td>\n",
       "      <td>-2.026350</td>\n",
       "      <td>-0.562740</td>\n",
       "      <td>-1.633751</td>\n",
       "      <td>0.993840</td>\n",
       "      <td>3.030375</td>\n",
       "      <td>0.981829</td>\n",
       "      <td>3.812868</td>\n",
       "      <td>stroke</td>\n",
       "    </tr>\n",
       "    <tr>\n",
       "      <td>2</td>\n",
       "      <td>1.924400</td>\n",
       "      <td>4.210700</td>\n",
       "      <td>3.601400</td>\n",
       "      <td>3.459100</td>\n",
       "      <td>4.531100</td>\n",
       "      <td>3.795800</td>\n",
       "      <td>-4.327700</td>\n",
       "      <td>-7.314200</td>\n",
       "      <td>-4.554200</td>\n",
       "      <td>-1.379200</td>\n",
       "      <td>-6.560600</td>\n",
       "      <td>2.874300</td>\n",
       "      <td>5.673200</td>\n",
       "      <td>stroke</td>\n",
       "    </tr>\n",
       "    <tr>\n",
       "      <td>3</td>\n",
       "      <td>-1.006990</td>\n",
       "      <td>0.417151</td>\n",
       "      <td>-0.550243</td>\n",
       "      <td>0.050287</td>\n",
       "      <td>0.491995</td>\n",
       "      <td>0.122328</td>\n",
       "      <td>-0.330798</td>\n",
       "      <td>0.391511</td>\n",
       "      <td>0.052952</td>\n",
       "      <td>0.430481</td>\n",
       "      <td>1.677575</td>\n",
       "      <td>-0.302786</td>\n",
       "      <td>0.596315</td>\n",
       "      <td>control</td>\n",
       "    </tr>\n",
       "    <tr>\n",
       "      <td>4</td>\n",
       "      <td>1.310648</td>\n",
       "      <td>0.108955</td>\n",
       "      <td>0.991658</td>\n",
       "      <td>0.486618</td>\n",
       "      <td>-0.105091</td>\n",
       "      <td>0.384574</td>\n",
       "      <td>0.274672</td>\n",
       "      <td>-1.727270</td>\n",
       "      <td>-0.573007</td>\n",
       "      <td>1.731097</td>\n",
       "      <td>-0.230371</td>\n",
       "      <td>1.090592</td>\n",
       "      <td>1.172699</td>\n",
       "      <td>control</td>\n",
       "    </tr>\n",
       "  </tbody>\n",
       "</table>\n",
       "</div>"
      ],
      "text/plain": [
       "   Abs error X  Abs error Y  Abs error XY  Variability X  Variability Y  \\\n",
       "0    -0.655069    -1.595675     -1.238965      -0.632909      -1.305108   \n",
       "1     0.891985     1.857968      1.380032       1.265856       3.083174   \n",
       "2     1.924400     4.210700      3.601400       3.459100       4.531100   \n",
       "3    -1.006990     0.417151     -0.550243       0.050287       0.491995   \n",
       "4     1.310648     0.108955      0.991658       0.486618      -0.105091   \n",
       "\n",
       "   Variability XY  Contraction expansion ratio X  \\\n",
       "0       -0.869893                      -0.201238   \n",
       "1        1.810506                      -2.026350   \n",
       "2        3.795800                      -4.327700   \n",
       "3        0.122328                      -0.330798   \n",
       "4        0.384574                       0.274672   \n",
       "\n",
       "   Contraction expansion ratio Y  Contraction expansion ratio XY   Shift X  \\\n",
       "0                       0.243281                        0.075277 -0.576372   \n",
       "1                      -0.562740                       -1.633751  0.993840   \n",
       "2                      -7.314200                       -4.554200 -1.379200   \n",
       "3                       0.391511                        0.052952  0.430481   \n",
       "4                      -1.727270                       -0.573007  1.731097   \n",
       "\n",
       "    Shift Y  Shift XY  Task Score data_type  \n",
       "0  0.156761 -0.427542    0.015397   control  \n",
       "1  3.030375  0.981829    3.812868    stroke  \n",
       "2 -6.560600  2.874300    5.673200    stroke  \n",
       "3  1.677575 -0.302786    0.596315   control  \n",
       "4 -0.230371  1.090592    1.172699   control  "
      ]
     },
     "execution_count": 2,
     "metadata": {},
     "output_type": "execute_result"
    }
   ],
   "source": [
    "# Import necessary dependencies\n",
    "import pandas as pd\n",
    "import numpy as np\n",
    "import matplotlib.pyplot as plt\n",
    "import model_evaluation_utils as meu\n",
    "from sklearn.model_selection import train_test_split\n",
    "from collections import Counter\n",
    "from sklearn.preprocessing import StandardScaler\n",
    "from sklearn.preprocessing import LabelEncoder\n",
    "\n",
    "%matplotlib inline\n",
    "\n",
    "# Load and merge datasets # white = control; red = stroke; wine = data\n",
    "stroke_data = pd.read_csv('Stroke/Injure participants.csv', delim_whitespace=False)\n",
    "control_data = pd.read_csv('Healthy Control participants.csv', delim_whitespace=False)\n",
    "\n",
    "# Data type as an attribute\n",
    "stroke_data['data_type'] = 'stroke'   \n",
    "control_data['data_type'] = 'control'\n",
    "\n",
    "# merge control and stroke data\n",
    "datas = pd.concat([stroke_data, control_data])\n",
    "datas = datas.sample(frac=1, random_state=42).reset_index(drop=True)\n",
    "\n",
    "# understand dataset features and values\n",
    "datas.head()\n",
    "#stroke_data.head()\n",
    "#control_data.head()"
   ]
  },
  {
   "cell_type": "code",
   "execution_count": 3,
   "metadata": {},
   "outputs": [
    {
     "name": "stdout",
     "output_type": "stream",
     "text": [
      "Counter({'stroke': 379, 'control': 331}) Counter({'stroke': 171, 'control': 134})\n",
      "Features: ['Abs error X', 'Abs error Y', 'Abs error XY', 'Variability X', 'Variability Y', 'Variability XY', 'Contraction expansion ratio X', 'Contraction expansion ratio Y', 'Contraction expansion ratio XY', 'Shift X', 'Shift Y', 'Shift XY', 'Task Score']\n"
     ]
    }
   ],
   "source": [
    "# Prepare Training and Testing Datasets\n",
    "stp_features = datas.iloc[:,:-1]\n",
    "stp_feature_names = stp_features.columns\n",
    "stp_class_labels = np.array(datas['data_type'])\n",
    "\n",
    "stp_train_X, stp_test_X, stp_train_y, stp_test_y = train_test_split(stp_features, stp_class_labels, \n",
    "                                                                    test_size=0.3, random_state=42)\n",
    "\n",
    "print(Counter(stp_train_y), Counter(stp_test_y))\n",
    "print('Features:', list(stp_feature_names))"
   ]
  },
  {
   "cell_type": "code",
   "execution_count": 4,
   "metadata": {},
   "outputs": [],
   "source": [
    "# Feature Scaling\n",
    "# Define the scaler \n",
    "#stp_ss = StandardScaler().fit(stp_train_X)\n",
    "stp_ss = stp_train_X\n",
    "\n",
    "# Scale the train set\n",
    "#stp_train_SX = stp_ss.transform(stp_train_X)\n",
    "stp_train_SX = stp_train_X\n",
    "\n",
    "# Scale the test set\n",
    "#stp_test_SX = stp_ss.transform(stp_test_X)\n",
    "stp_test_SX = stp_test_X"
   ]
  },
  {
   "cell_type": "code",
   "execution_count": 5,
   "metadata": {},
   "outputs": [],
   "source": [
    "# Encode Response class labels\n",
    "le = LabelEncoder()\n",
    "le.fit(stp_train_y)\n",
    "# encode wine type labels\n",
    "stp_train_ey = le.transform(stp_train_y)\n",
    "stp_test_ey = le.transform(stp_test_y)"
   ]
  },
  {
   "cell_type": "markdown",
   "metadata": {},
   "source": [
    "### Train a Model using Logistic Regression"
   ]
  },
  {
   "cell_type": "code",
   "execution_count": 6,
   "metadata": {},
   "outputs": [
    {
     "data": {
      "image/png": "[encoded data removed]",
      "text/plain": [
       "<Figure size 432x288 with 1 Axes>"
      ]
     },
     "metadata": {
      "needs_background": "light"
     },
     "output_type": "display_data"
    },
    {
     "data": {
      "image/png": "[encoded data removed]",
      "text/plain": [
       "<Figure size 432x288 with 1 Axes>"
      ]
     },
     "metadata": {
      "needs_background": "light"
     },
     "output_type": "display_data"
    }
   ],
   "source": [
    "from sklearn.linear_model import LogisticRegression\n",
    "from sklearn.metrics import roc_curve\n",
    "from sklearn.metrics import auc\n",
    "from sklearn.metrics import precision_recall_curve\n",
    "from sklearn.metrics import f1_score\n",
    "from matplotlib import pyplot\n",
    "import matplotlib.pyplot as plt\n",
    "\n",
    "stp_lr = LogisticRegression()\n",
    "stp_lr.fit(stp_train_SX, stp_train_y)\n",
    "\n",
    "y_pred_lr = stp_lr.predict(stp_test_SX)\n",
    "y_pred_prob_lr = stp_lr.predict_proba(stp_test_SX)[:,1]\n",
    "\n",
    "fpr_lr, tpr_lr, thresholds_lr = roc_curve(stp_test_ey, y_pred_prob_lr)\n",
    "\n",
    "# AUC value can also be calculated like this.\n",
    "auc_lr = auc(fpr_lr, tpr_lr)\n",
    "#print(auc_lr)\n",
    "\n",
    "fig = plt.figure(1)\n",
    "plt.xlim(0, 1)\n",
    "plt.ylim(0, 1)\n",
    "plt.plot([0, 1], [0, 1], 'k--')\n",
    "plt.plot(fpr_lr, tpr_lr, label='LR (area = {:.2f})'.format(auc_lr))\n",
    "#plt.plot(fpr_rf, tpr_rf, label='RF (area = {:.3f})'.format(auc_rf)) # wtp_lr, wtp_test_SX, wtp_test_y\n",
    "plt.xlabel('False Positive Rate')\n",
    "plt.ylabel('True Positive Rate')\n",
    "plt.title('Linear Regression ROC Curve')\n",
    "plt.legend(loc='best')\n",
    "plt.show()\n",
    "#fig.savefig('LR ROC Curve.png', bbox_inches='tight')\n",
    "\n",
    "# calculate precision and recall for each threshold\n",
    "lr_precision, lr_recall, _ = precision_recall_curve(stp_test_ey, y_pred_prob_lr)\n",
    "# calculate scores\n",
    "#lr_f1, lr_auc = f1_score(wtp_test_ey, y_pred_prob_lr), auc(lr_recall, lr_precision)\n",
    "plt.figure(2)\n",
    "pyplot.plot(lr_recall, lr_precision, marker='.', label='LR')\n",
    "# summarize scores\n",
    "#print('Logistic: f1=%.3f auc=%.3f' % (lr_f1, lr_auc))\n",
    "# axis labels\n",
    "fig = plt.figure(2)\n",
    "pyplot.title('Precision-Recall Curve')\n",
    "pyplot.xlabel('Recall')\n",
    "pyplot.ylabel('Precision')\n",
    "# show the legend\n",
    "pyplot.legend()\n",
    "# show the plot\n",
    "pyplot.show()\n",
    "#fig.savefig('LR Precision-Recall Curve.png', bbox_inches='tight')"
   ]
  },
  {
   "cell_type": "code",
   "execution_count": 7,
   "metadata": {},
   "outputs": [
    {
     "name": "stdout",
     "output_type": "stream",
     "text": [
      "Model Performance metrics:\n",
      "------------------------------\n",
      "Accuracy: 0.7902\n",
      "Precision: 0.8149\n",
      "Recall: 0.7902\n",
      "F1 Score: 0.7901\n",
      "\n",
      "Model Classification report:\n",
      "------------------------------\n",
      "              precision    recall  f1-score   support\n",
      "\n",
      "      stroke       0.90      0.70      0.79       171\n",
      "     control       0.70      0.90      0.79       134\n",
      "\n",
      "    accuracy                           0.79       305\n",
      "   macro avg       0.80      0.80      0.79       305\n",
      "weighted avg       0.81      0.79      0.79       305\n",
      "\n",
      "\n",
      "Prediction Confusion Matrix:\n",
      "------------------------------\n",
      "                Predicted:        \n",
      "                    stroke control\n",
      "Actual: stroke         120      51\n",
      "        control         13     121\n"
     ]
    },
    {
     "name": "stderr",
     "output_type": "stream",
     "text": [
      "/Users/delowarhossain/Desktop/Research/TesorflowProgramming/Stroke-Data/model_evaluation_utils.py:67: FutureWarning: the 'labels' keyword is deprecated, use 'codes' instead\n",
      "  labels=level_labels),\n",
      "/Users/delowarhossain/Desktop/Research/TesorflowProgramming/Stroke-Data/model_evaluation_utils.py:69: FutureWarning: the 'labels' keyword is deprecated, use 'codes' instead\n",
      "  labels=level_labels))\n"
     ]
    }
   ],
   "source": [
    "# Predict and Evaluate Model Performance\n",
    "stp_lr_predictions = stp_lr.predict(stp_test_SX)\n",
    "#print(wtp_lr_predictions)\n",
    "meu.display_model_performance_metrics(true_labels=stp_test_y, predicted_labels=stp_lr_predictions, \n",
    "                                      classes=['stroke', 'control'])"
   ]
  },
  {
   "cell_type": "code",
   "execution_count": 8,
   "metadata": {
    "scrolled": true
   },
   "outputs": [
    {
     "data": {
      "image/png": "[encoded data removed]",
      "text/plain": [
       "<Figure size 432x288 with 1 Axes>"
      ]
     },
     "metadata": {
      "needs_background": "light"
     },
     "output_type": "display_data"
    }
   ],
   "source": [
    "# View model ROC curve\n",
    "meu.plot_model_roc_curve(stp_lr, stp_test_SX, stp_test_y)"
   ]
  },
  {
   "cell_type": "code",
   "execution_count": null,
   "metadata": {},
   "outputs": [],
   "source": []
  },
  {
   "cell_type": "markdown",
   "metadata": {},
   "source": [
    "### Train a Model using Deep Learning (MLP)"
   ]
  },
  {
   "cell_type": "code",
   "execution_count": 9,
   "metadata": {},
   "outputs": [],
   "source": [
    "# Encode Response class labels\n",
    "le = LabelEncoder()\n",
    "le.fit(stp_train_y)\n",
    "# encode wine type labels\n",
    "stp_train_ey = le.transform(stp_train_y)\n",
    "stp_test_ey = le.transform(stp_test_y)"
   ]
  },
  {
   "cell_type": "code",
   "execution_count": 12,
   "metadata": {},
   "outputs": [],
   "source": [
    "# Build & Compile DNN Model Architecture\n",
    "from keras.models import Sequential\n",
    "from keras.layers import Dense\n",
    "\n",
    "stp_dnn_model = Sequential()\n",
    "stp_dnn_model.add(Dense(16, activation='relu', input_shape=(13,)))\n",
    "stp_dnn_model.add(Dense(16, activation='relu'))\n",
    "stp_dnn_model.add(Dense(16, activation='relu'))\n",
    "stp_dnn_model.add(Dense(1, activation='sigmoid'))\n",
    "\n",
    "stp_dnn_model.compile(loss='binary_crossentropy', optimizer='adam', metrics=['accuracy'])"
   ]
  },
  {
   "cell_type": "code",
   "execution_count": 13,
   "metadata": {},
   "outputs": [
    {
     "name": "stdout",
     "output_type": "stream",
     "text": [
      "Epoch 1/100\n",
      "128/128 [==============================] - 0s 2ms/step - loss: 0.5609 - accuracy: 0.6166 - val_loss: 0.5680 - val_accuracy: 0.7324\n",
      "Epoch 2/100\n",
      "128/128 [==============================] - 0s 1ms/step - loss: 0.4879 - accuracy: 0.7872 - val_loss: 0.5152 - val_accuracy: 0.7606\n",
      "Epoch 3/100\n",
      "128/128 [==============================] - 0s 1ms/step - loss: 0.4443 - accuracy: 0.7966 - val_loss: 0.4871 - val_accuracy: 0.7606\n",
      "Epoch 4/100\n",
      "128/128 [==============================] - 0s 1ms/step - loss: 0.4282 - accuracy: 0.8075 - val_loss: 0.4827 - val_accuracy: 0.7606\n",
      "Epoch 5/100\n",
      "128/128 [==============================] - 0s 1ms/step - loss: 0.4195 - accuracy: 0.8075 - val_loss: 0.4803 - val_accuracy: 0.7746\n",
      "Epoch 6/100\n",
      "128/128 [==============================] - 0s 1ms/step - loss: 0.4133 - accuracy: 0.8185 - val_loss: 0.4618 - val_accuracy: 0.8028\n",
      "Epoch 7/100\n",
      "128/128 [==============================] - 0s 1ms/step - loss: 0.4087 - accuracy: 0.8232 - val_loss: 0.4611 - val_accuracy: 0.7606\n",
      "Epoch 8/100\n",
      "128/128 [==============================] - 0s 1ms/step - loss: 0.4014 - accuracy: 0.8185 - val_loss: 0.4674 - val_accuracy: 0.7746\n",
      "Epoch 9/100\n",
      "128/128 [==============================] - 0s 1ms/step - loss: 0.4019 - accuracy: 0.8279 - val_loss: 0.4517 - val_accuracy: 0.8028\n",
      "Epoch 10/100\n",
      "128/128 [==============================] - 0s 1ms/step - loss: 0.3938 - accuracy: 0.8153 - val_loss: 0.4491 - val_accuracy: 0.7887\n",
      "Epoch 11/100\n",
      "128/128 [==============================] - 0s 2ms/step - loss: 0.3898 - accuracy: 0.8294 - val_loss: 0.4565 - val_accuracy: 0.7887\n",
      "Epoch 12/100\n",
      "128/128 [==============================] - 0s 1ms/step - loss: 0.3870 - accuracy: 0.8247 - val_loss: 0.4490 - val_accuracy: 0.7887\n",
      "Epoch 13/100\n",
      "128/128 [==============================] - 0s 1ms/step - loss: 0.3818 - accuracy: 0.8326 - val_loss: 0.4749 - val_accuracy: 0.7746\n",
      "Epoch 14/100\n",
      "128/128 [==============================] - 0s 1ms/step - loss: 0.3794 - accuracy: 0.8247 - val_loss: 0.4531 - val_accuracy: 0.8028\n",
      "Epoch 15/100\n",
      "128/128 [==============================] - 0s 1ms/step - loss: 0.3745 - accuracy: 0.8294 - val_loss: 0.4542 - val_accuracy: 0.8169\n",
      "Epoch 16/100\n",
      "128/128 [==============================] - 0s 1ms/step - loss: 0.3750 - accuracy: 0.8372 - val_loss: 0.4603 - val_accuracy: 0.7606\n",
      "Epoch 17/100\n",
      "128/128 [==============================] - 0s 1ms/step - loss: 0.3710 - accuracy: 0.8341 - val_loss: 0.4603 - val_accuracy: 0.7887\n",
      "Epoch 18/100\n",
      "128/128 [==============================] - 0s 1ms/step - loss: 0.3655 - accuracy: 0.8357 - val_loss: 0.4617 - val_accuracy: 0.8028\n",
      "Epoch 19/100\n",
      "128/128 [==============================] - 0s 1ms/step - loss: 0.3654 - accuracy: 0.8294 - val_loss: 0.4604 - val_accuracy: 0.7887\n",
      "Epoch 20/100\n",
      "128/128 [==============================] - 0s 2ms/step - loss: 0.3582 - accuracy: 0.8466 - val_loss: 0.4523 - val_accuracy: 0.7887\n",
      "Epoch 21/100\n",
      "128/128 [==============================] - 0s 1ms/step - loss: 0.3577 - accuracy: 0.8435 - val_loss: 0.4665 - val_accuracy: 0.7887\n",
      "Epoch 22/100\n",
      "128/128 [==============================] - 0s 1ms/step - loss: 0.3541 - accuracy: 0.8451 - val_loss: 0.4526 - val_accuracy: 0.7746\n",
      "Epoch 23/100\n",
      "128/128 [==============================] - 0s 1ms/step - loss: 0.3501 - accuracy: 0.8419 - val_loss: 0.4692 - val_accuracy: 0.7606\n",
      "Epoch 24/100\n",
      "128/128 [==============================] - 0s 1ms/step - loss: 0.3491 - accuracy: 0.8592 - val_loss: 0.4749 - val_accuracy: 0.7887\n",
      "Epoch 25/100\n",
      "128/128 [==============================] - 0s 1ms/step - loss: 0.3431 - accuracy: 0.8607 - val_loss: 0.4812 - val_accuracy: 0.7887\n",
      "Epoch 26/100\n",
      "128/128 [==============================] - 0s 1ms/step - loss: 0.3404 - accuracy: 0.8545 - val_loss: 0.4943 - val_accuracy: 0.7887\n",
      "Epoch 27/100\n",
      "128/128 [==============================] - 0s 1ms/step - loss: 0.3399 - accuracy: 0.8576 - val_loss: 0.4983 - val_accuracy: 0.7887\n",
      "Epoch 28/100\n",
      "128/128 [==============================] - 0s 1ms/step - loss: 0.3396 - accuracy: 0.8576 - val_loss: 0.4768 - val_accuracy: 0.7746\n",
      "Epoch 29/100\n",
      "128/128 [==============================] - 0s 1ms/step - loss: 0.3323 - accuracy: 0.8466 - val_loss: 0.5093 - val_accuracy: 0.7746\n",
      "Epoch 30/100\n",
      "128/128 [==============================] - 0s 2ms/step - loss: 0.3331 - accuracy: 0.8592 - val_loss: 0.4659 - val_accuracy: 0.7746\n",
      "Epoch 31/100\n",
      "128/128 [==============================] - 0s 1ms/step - loss: 0.3231 - accuracy: 0.8576 - val_loss: 0.4936 - val_accuracy: 0.7746\n",
      "Epoch 32/100\n",
      "128/128 [==============================] - 0s 1ms/step - loss: 0.3236 - accuracy: 0.8701 - val_loss: 0.4754 - val_accuracy: 0.7746\n",
      "Epoch 33/100\n",
      "128/128 [==============================] - 0s 1ms/step - loss: 0.3186 - accuracy: 0.8576 - val_loss: 0.4725 - val_accuracy: 0.7746\n",
      "Epoch 34/100\n",
      "128/128 [==============================] - 0s 1ms/step - loss: 0.3162 - accuracy: 0.8685 - val_loss: 0.4647 - val_accuracy: 0.7887\n",
      "Epoch 35/100\n",
      "128/128 [==============================] - 0s 1ms/step - loss: 0.3153 - accuracy: 0.8466 - val_loss: 0.4625 - val_accuracy: 0.7887\n",
      "Epoch 36/100\n",
      "128/128 [==============================] - 0s 2ms/step - loss: 0.3129 - accuracy: 0.8623 - val_loss: 0.4934 - val_accuracy: 0.7746\n",
      "Epoch 37/100\n",
      "128/128 [==============================] - 0s 1ms/step - loss: 0.3107 - accuracy: 0.8701 - val_loss: 0.4979 - val_accuracy: 0.7746\n",
      "Epoch 38/100\n",
      "128/128 [==============================] - 0s 1ms/step - loss: 0.3108 - accuracy: 0.8545 - val_loss: 0.4949 - val_accuracy: 0.7746\n",
      "Epoch 39/100\n",
      "128/128 [==============================] - 0s 1ms/step - loss: 0.3046 - accuracy: 0.8576 - val_loss: 0.4853 - val_accuracy: 0.7746\n",
      "Epoch 40/100\n",
      "128/128 [==============================] - 0s 1ms/step - loss: 0.3029 - accuracy: 0.8607 - val_loss: 0.4830 - val_accuracy: 0.7606\n",
      "Epoch 41/100\n",
      "128/128 [==============================] - 0s 1ms/step - loss: 0.2996 - accuracy: 0.8670 - val_loss: 0.5011 - val_accuracy: 0.7746\n",
      "Epoch 42/100\n",
      "128/128 [==============================] - 0s 1ms/step - loss: 0.2971 - accuracy: 0.8670 - val_loss: 0.4898 - val_accuracy: 0.7746\n",
      "Epoch 43/100\n",
      "128/128 [==============================] - 0s 1ms/step - loss: 0.2926 - accuracy: 0.8748 - val_loss: 0.4912 - val_accuracy: 0.7746\n",
      "Epoch 44/100\n",
      "128/128 [==============================] - 0s 1ms/step - loss: 0.2923 - accuracy: 0.8717 - val_loss: 0.4852 - val_accuracy: 0.7746\n",
      "Epoch 45/100\n",
      "128/128 [==============================] - 0s 1ms/step - loss: 0.2939 - accuracy: 0.8748 - val_loss: 0.4986 - val_accuracy: 0.7746\n",
      "Epoch 46/100\n",
      "128/128 [==============================] - 0s 1ms/step - loss: 0.2835 - accuracy: 0.8779 - val_loss: 0.5080 - val_accuracy: 0.7746\n",
      "Epoch 47/100\n",
      "128/128 [==============================] - 0s 1ms/step - loss: 0.2804 - accuracy: 0.8779 - val_loss: 0.5113 - val_accuracy: 0.7746\n",
      "Epoch 48/100\n",
      "128/128 [==============================] - 0s 1ms/step - loss: 0.2775 - accuracy: 0.8811 - val_loss: 0.4837 - val_accuracy: 0.7887\n",
      "Epoch 49/100\n",
      "128/128 [==============================] - 0s 1ms/step - loss: 0.2762 - accuracy: 0.8764 - val_loss: 0.4747 - val_accuracy: 0.8028\n",
      "Epoch 50/100\n",
      "128/128 [==============================] - 0s 1ms/step - loss: 0.2760 - accuracy: 0.8858 - val_loss: 0.4993 - val_accuracy: 0.7887\n",
      "Epoch 51/100\n",
      "128/128 [==============================] - 0s 1ms/step - loss: 0.2715 - accuracy: 0.8842 - val_loss: 0.5071 - val_accuracy: 0.7746\n",
      "Epoch 52/100\n",
      "128/128 [==============================] - 0s 1ms/step - loss: 0.2707 - accuracy: 0.8779 - val_loss: 0.4941 - val_accuracy: 0.7887\n",
      "Epoch 53/100\n",
      "128/128 [==============================] - 0s 1ms/step - loss: 0.2598 - accuracy: 0.8842 - val_loss: 0.5078 - val_accuracy: 0.7887\n",
      "Epoch 54/100\n",
      "128/128 [==============================] - 0s 1ms/step - loss: 0.2665 - accuracy: 0.8920 - val_loss: 0.5078 - val_accuracy: 0.7746\n",
      "Epoch 55/100\n",
      "128/128 [==============================] - 0s 1ms/step - loss: 0.2590 - accuracy: 0.8811 - val_loss: 0.5095 - val_accuracy: 0.7746\n",
      "Epoch 56/100\n",
      "128/128 [==============================] - 0s 1ms/step - loss: 0.2599 - accuracy: 0.8764 - val_loss: 0.5301 - val_accuracy: 0.7887\n",
      "Epoch 57/100\n",
      "128/128 [==============================] - 0s 1ms/step - loss: 0.2656 - accuracy: 0.8795 - val_loss: 0.5230 - val_accuracy: 0.7887\n"
     ]
    },
    {
     "name": "stdout",
     "output_type": "stream",
     "text": [
      "Epoch 58/100\n",
      "128/128 [==============================] - 0s 1ms/step - loss: 0.2562 - accuracy: 0.8764 - val_loss: 0.5133 - val_accuracy: 0.8028\n",
      "Epoch 59/100\n",
      "128/128 [==============================] - 0s 1ms/step - loss: 0.2502 - accuracy: 0.8920 - val_loss: 0.5144 - val_accuracy: 0.7887\n",
      "Epoch 60/100\n",
      "128/128 [==============================] - 0s 1ms/step - loss: 0.2455 - accuracy: 0.8858 - val_loss: 0.5276 - val_accuracy: 0.8028\n",
      "Epoch 61/100\n",
      "128/128 [==============================] - 0s 1ms/step - loss: 0.2439 - accuracy: 0.8920 - val_loss: 0.5215 - val_accuracy: 0.7887\n",
      "Epoch 62/100\n",
      "128/128 [==============================] - 0s 1ms/step - loss: 0.2414 - accuracy: 0.8967 - val_loss: 0.4903 - val_accuracy: 0.8028\n",
      "Epoch 63/100\n",
      "128/128 [==============================] - 0s 1ms/step - loss: 0.2427 - accuracy: 0.8889 - val_loss: 0.5322 - val_accuracy: 0.7606\n",
      "Epoch 64/100\n",
      "128/128 [==============================] - 0s 1ms/step - loss: 0.2401 - accuracy: 0.9030 - val_loss: 0.5309 - val_accuracy: 0.7746\n",
      "Epoch 65/100\n",
      "128/128 [==============================] - 0s 1ms/step - loss: 0.2343 - accuracy: 0.8951 - val_loss: 0.4995 - val_accuracy: 0.7746\n",
      "Epoch 66/100\n",
      "128/128 [==============================] - 0s 2ms/step - loss: 0.2347 - accuracy: 0.8889 - val_loss: 0.5205 - val_accuracy: 0.7887\n",
      "Epoch 67/100\n",
      "128/128 [==============================] - 0s 1ms/step - loss: 0.2273 - accuracy: 0.8936 - val_loss: 0.5189 - val_accuracy: 0.7887\n",
      "Epoch 68/100\n",
      "128/128 [==============================] - 0s 1ms/step - loss: 0.2252 - accuracy: 0.9030 - val_loss: 0.5615 - val_accuracy: 0.7887\n",
      "Epoch 69/100\n",
      "128/128 [==============================] - 0s 1ms/step - loss: 0.2309 - accuracy: 0.8951 - val_loss: 0.5006 - val_accuracy: 0.8028\n",
      "Epoch 70/100\n",
      "128/128 [==============================] - 0s 1ms/step - loss: 0.2207 - accuracy: 0.8998 - val_loss: 0.5252 - val_accuracy: 0.7887\n",
      "Epoch 71/100\n",
      "128/128 [==============================] - 0s 1ms/step - loss: 0.2282 - accuracy: 0.8951 - val_loss: 0.5250 - val_accuracy: 0.8028\n",
      "Epoch 72/100\n",
      "128/128 [==============================] - 0s 1ms/step - loss: 0.2159 - accuracy: 0.9092 - val_loss: 0.6020 - val_accuracy: 0.8169\n",
      "Epoch 73/100\n",
      "128/128 [==============================] - 0s 1ms/step - loss: 0.2240 - accuracy: 0.9045 - val_loss: 0.5268 - val_accuracy: 0.8028\n",
      "Epoch 74/100\n",
      "128/128 [==============================] - 0s 1ms/step - loss: 0.2120 - accuracy: 0.9014 - val_loss: 0.5936 - val_accuracy: 0.7606\n",
      "Epoch 75/100\n",
      "128/128 [==============================] - 0s 1ms/step - loss: 0.2224 - accuracy: 0.8967 - val_loss: 0.5681 - val_accuracy: 0.7746\n",
      "Epoch 76/100\n",
      "128/128 [==============================] - 0s 1ms/step - loss: 0.2120 - accuracy: 0.9092 - val_loss: 0.6046 - val_accuracy: 0.7887\n",
      "Epoch 77/100\n",
      "128/128 [==============================] - 0s 1ms/step - loss: 0.2183 - accuracy: 0.8983 - val_loss: 0.5916 - val_accuracy: 0.7887\n",
      "Epoch 78/100\n",
      "128/128 [==============================] - 0s 1ms/step - loss: 0.2205 - accuracy: 0.8983 - val_loss: 0.5670 - val_accuracy: 0.7746\n",
      "Epoch 79/100\n",
      "128/128 [==============================] - 0s 1ms/step - loss: 0.2065 - accuracy: 0.9186 - val_loss: 0.6056 - val_accuracy: 0.7887\n",
      "Epoch 80/100\n",
      "128/128 [==============================] - 0s 1ms/step - loss: 0.2040 - accuracy: 0.9077 - val_loss: 0.6239 - val_accuracy: 0.7606\n",
      "Epoch 81/100\n",
      "128/128 [==============================] - 0s 1ms/step - loss: 0.1929 - accuracy: 0.9233 - val_loss: 0.6270 - val_accuracy: 0.7746\n",
      "Epoch 82/100\n",
      "128/128 [==============================] - 0s 1ms/step - loss: 0.2007 - accuracy: 0.9124 - val_loss: 0.6265 - val_accuracy: 0.7887\n",
      "Epoch 83/100\n",
      "128/128 [==============================] - 0s 1ms/step - loss: 0.2007 - accuracy: 0.9155 - val_loss: 0.6411 - val_accuracy: 0.7746\n",
      "Epoch 84/100\n",
      "128/128 [==============================] - 0s 1ms/step - loss: 0.1924 - accuracy: 0.9139 - val_loss: 0.6699 - val_accuracy: 0.7606\n",
      "Epoch 85/100\n",
      "128/128 [==============================] - 0s 1ms/step - loss: 0.1979 - accuracy: 0.9108 - val_loss: 0.6388 - val_accuracy: 0.7606\n",
      "Epoch 86/100\n",
      "128/128 [==============================] - 0s 1ms/step - loss: 0.1930 - accuracy: 0.9155 - val_loss: 0.6109 - val_accuracy: 0.8028\n",
      "Epoch 87/100\n",
      "128/128 [==============================] - 0s 1ms/step - loss: 0.1904 - accuracy: 0.9139 - val_loss: 0.6864 - val_accuracy: 0.7606\n",
      "Epoch 88/100\n",
      "128/128 [==============================] - 0s 1ms/step - loss: 0.1956 - accuracy: 0.9092 - val_loss: 0.6679 - val_accuracy: 0.8028\n",
      "Epoch 89/100\n",
      "128/128 [==============================] - 0s 1ms/step - loss: 0.1852 - accuracy: 0.9202 - val_loss: 0.6550 - val_accuracy: 0.7606\n",
      "Epoch 90/100\n",
      "128/128 [==============================] - 0s 1ms/step - loss: 0.1879 - accuracy: 0.9233 - val_loss: 0.6310 - val_accuracy: 0.7887\n",
      "Epoch 91/100\n",
      "128/128 [==============================] - 0s 1ms/step - loss: 0.1823 - accuracy: 0.9249 - val_loss: 0.6865 - val_accuracy: 0.7324\n",
      "Epoch 92/100\n",
      "128/128 [==============================] - 0s 1ms/step - loss: 0.1702 - accuracy: 0.9374 - val_loss: 0.6758 - val_accuracy: 0.7887\n",
      "Epoch 93/100\n",
      "128/128 [==============================] - 0s 1ms/step - loss: 0.1829 - accuracy: 0.9171 - val_loss: 0.6874 - val_accuracy: 0.7606\n",
      "Epoch 94/100\n",
      "128/128 [==============================] - 0s 1ms/step - loss: 0.1809 - accuracy: 0.9218 - val_loss: 0.6551 - val_accuracy: 0.8310\n",
      "Epoch 95/100\n",
      "128/128 [==============================] - 0s 1ms/step - loss: 0.1699 - accuracy: 0.9186 - val_loss: 0.6805 - val_accuracy: 0.8169\n",
      "Epoch 96/100\n",
      "128/128 [==============================] - 0s 1ms/step - loss: 0.1806 - accuracy: 0.9218 - val_loss: 0.7490 - val_accuracy: 0.8028\n",
      "Epoch 97/100\n",
      "128/128 [==============================] - 0s 1ms/step - loss: 0.1680 - accuracy: 0.9233 - val_loss: 0.6576 - val_accuracy: 0.8028\n",
      "Epoch 98/100\n",
      "128/128 [==============================] - 0s 1ms/step - loss: 0.1580 - accuracy: 0.9343 - val_loss: 0.7533 - val_accuracy: 0.8169\n",
      "Epoch 99/100\n",
      "128/128 [==============================] - 0s 1ms/step - loss: 0.1683 - accuracy: 0.9218 - val_loss: 0.6834 - val_accuracy: 0.7465\n",
      "Epoch 100/100\n",
      "128/128 [==============================] - 0s 1ms/step - loss: 0.1620 - accuracy: 0.9343 - val_loss: 0.6428 - val_accuracy: 0.8169\n"
     ]
    }
   ],
   "source": [
    "# Train the Model\n",
    "history = stp_dnn_model.fit(stp_train_SX, stp_train_ey, epochs=100, batch_size=5, \n",
    "                            shuffle=True, validation_split=0.1, verbose=1)"
   ]
  },
  {
   "cell_type": "code",
   "execution_count": 14,
   "metadata": {},
   "outputs": [
    {
     "name": "stdout",
     "output_type": "stream",
     "text": [
      "WARNING:tensorflow:From <ipython-input-14-46c90f88920b>:2: Sequential.predict_classes (from tensorflow.python.keras.engine.sequential) is deprecated and will be removed after 2021-01-01.\n",
      "Instructions for updating:\n",
      "Please use instead:* `np.argmax(model.predict(x), axis=-1)`,   if your model does multi-class classification   (e.g. if it uses a `softmax` last-layer activation).* `(model.predict(x) > 0.5).astype(\"int32\")`,   if your model does binary classification   (e.g. if it uses a `sigmoid` last-layer activation).\n",
      "WARNING:tensorflow:From <ipython-input-14-46c90f88920b>:3: Sequential.predict_proba (from tensorflow.python.keras.engine.sequential) is deprecated and will be removed after 2021-01-01.\n",
      "Instructions for updating:\n",
      "Please use `model.predict()` instead.\n"
     ]
    },
    {
     "name": "stderr",
     "output_type": "stream",
     "text": [
      "/Users/delowarhossain/opt/anaconda3/lib/python3.7/site-packages/sklearn/utils/validation.py:73: DataConversionWarning: A column-vector y was passed when a 1d array was expected. Please change the shape of y to (n_samples, ), for example using ravel().\n",
      "  return f(**kwargs)\n"
     ]
    }
   ],
   "source": [
    "# Predict on Test dataset\n",
    "stp_dnn_ypred = stp_dnn_model.predict_classes(stp_test_SX)\n",
    "stp_dnn_ypred_prob = stp_dnn_model.predict_proba(stp_test_SX)\n",
    "stp_dnn_predictions = le.inverse_transform(stp_dnn_ypred)"
   ]
  },
  {
   "cell_type": "code",
   "execution_count": 15,
   "metadata": {},
   "outputs": [
    {
     "data": {
      "image/png": "[encoded data removed]",
      "text/plain": [
       "<Figure size 720x288 with 2 Axes>"
      ]
     },
     "metadata": {
      "needs_background": "light"
     },
     "output_type": "display_data"
    },
    {
     "data": {
      "text/plain": [
       "<Figure size 432x288 with 0 Axes>"
      ]
     },
     "metadata": {},
     "output_type": "display_data"
    }
   ],
   "source": [
    "# Evaluate Model Performance\n",
    "f, (ax1, ax2) = plt.subplots(1, 2, figsize=(10, 4))\n",
    "t = f.suptitle('Deep Neural Net Performance', fontsize=12)\n",
    "f.subplots_adjust(top=0.85, wspace=0.3)\n",
    "\n",
    "epochs = list(range(1,101))\n",
    "fig = plt.figure(1)\n",
    "ax1.plot(epochs, history.history['accuracy'], label='Train Accuracy')\n",
    "ax1.plot(epochs, history.history['val_accuracy'], label='Validation Accuracy')\n",
    "ax1.set_xticks([1,50,100])#ax1.set_xticks(epochs)\n",
    "ax1.set_ylabel('Accuracy Value')\n",
    "ax1.set_xlabel('Epoch')\n",
    "ax1.set_title('Accuracy')\n",
    "l1 = ax1.legend(loc=\"best\")\n",
    "#fig.savefig('DNN Accuracy Curve.png', bbox_inches='tight')\n",
    "\n",
    "fig = plt.figure(2)\n",
    "ax2.plot(epochs, history.history['loss'], label='Train Loss')\n",
    "ax2.plot(epochs, history.history['val_loss'], label='Validation Loss')\n",
    "ax2.set_xticks([1,25,60])#ax2.set_xticks(epochs)\n",
    "ax2.set_ylabel('Loss Value')\n",
    "ax2.set_xlabel('Epoch')\n",
    "ax2.set_title('Loss')\n",
    "l2 = ax2.legend(loc=\"best\")\n",
    "#fig.savefig('DNN Loss Curve.png', bbox_inches='tight')"
   ]
  },
  {
   "cell_type": "code",
   "execution_count": 16,
   "metadata": {},
   "outputs": [
    {
     "name": "stdout",
     "output_type": "stream",
     "text": [
      "Model Performance metrics:\n",
      "------------------------------\n",
      "Accuracy: 0.7475\n",
      "Precision: 0.7766\n",
      "Recall: 0.7475\n",
      "F1 Score: 0.7468\n",
      "\n",
      "Model Classification report:\n",
      "------------------------------\n",
      "              precision    recall  f1-score   support\n",
      "\n",
      "      stroke       0.87      0.65      0.74       171\n",
      "     control       0.66      0.87      0.75       134\n",
      "\n",
      "    accuracy                           0.75       305\n",
      "   macro avg       0.76      0.76      0.75       305\n",
      "weighted avg       0.78      0.75      0.75       305\n",
      "\n",
      "\n",
      "Prediction Confusion Matrix:\n",
      "------------------------------\n",
      "                Predicted:        \n",
      "                    stroke control\n",
      "Actual: stroke         111      60\n",
      "        control         17     117\n"
     ]
    },
    {
     "name": "stderr",
     "output_type": "stream",
     "text": [
      "/Users/delowarhossain/Desktop/Research/TesorflowProgramming/Stroke-Data/model_evaluation_utils.py:67: FutureWarning: the 'labels' keyword is deprecated, use 'codes' instead\n",
      "  labels=level_labels),\n",
      "/Users/delowarhossain/Desktop/Research/TesorflowProgramming/Stroke-Data/model_evaluation_utils.py:69: FutureWarning: the 'labels' keyword is deprecated, use 'codes' instead\n",
      "  labels=level_labels))\n"
     ]
    }
   ],
   "source": [
    "meu.display_model_performance_metrics(true_labels=stp_test_y, predicted_labels=stp_dnn_predictions, \n",
    "                                      classes=['stroke', 'control'])"
   ]
  },
  {
   "cell_type": "code",
   "execution_count": 17,
   "metadata": {},
   "outputs": [
    {
     "data": {
      "image/png": "[encoded data removed]",
      "text/plain": [
       "<Figure size 432x288 with 1 Axes>"
      ]
     },
     "metadata": {
      "needs_background": "light"
     },
     "output_type": "display_data"
    },
    {
     "data": {
      "image/png": "[encoded data removed]",
      "text/plain": [
       "<Figure size 432x288 with 1 Axes>"
      ]
     },
     "metadata": {
      "needs_background": "light"
     },
     "output_type": "display_data"
    }
   ],
   "source": [
    "# https://www.dlology.com/blog/simple-guide-on-how-to-generate-roc-plot-for-keras-classifier/\n",
    "from sklearn.metrics import roc_curve\n",
    "#y_pred_dnn = wtp_dnn_model.predict(wtp_test_X).ravel()\n",
    "fpr_dnn, tpr_dnn, thresholds_dnn = roc_curve(stp_test_ey, stp_dnn_ypred_prob)\n",
    "\n",
    "# AUC value can also be calculated like this.\n",
    "from sklearn.metrics import auc\n",
    "auc_dnn = auc(fpr_dnn, tpr_dnn)\n",
    "\n",
    "fig = plt.figure(1)\n",
    "plt.xlim(0, 1)\n",
    "plt.ylim(0, 1)\n",
    "plt.plot([0, 1], [0, 1], 'k--')\n",
    "plt.plot(fpr_dnn, tpr_dnn, label='DNN (area = {:.2f})'.format(auc_dnn))\n",
    "#plt.plot(fpr_rf, tpr_rf, label='RF (area = {:.3f})'.format(auc_rf)) # wtp_lr, wtp_test_SX, wtp_test_y\n",
    "plt.xlabel('False Positive Rate')\n",
    "plt.ylabel('True Positive Rate')\n",
    "plt.title('ROC Curve')\n",
    "plt.legend(loc='best')\n",
    "plt.show()\n",
    "#fig.savefig('DNN ROC Curve.png', bbox_inches='tight')\n",
    "\n",
    "# calculate precision and recall for each threshold\n",
    "dnn_precision, dnn_recall, _ = precision_recall_curve(stp_test_ey, stp_dnn_ypred_prob)\n",
    "# calculate scores\n",
    "#lr_f1, lr_auc = f1_score(wtp_test_ey, y_pred_prob_lr), auc(lr_recall, lr_precision)\n",
    "fig = plt.figure(2)\n",
    "pyplot.plot(dnn_recall, dnn_precision, marker='.', label='DNN')\n",
    "# summarize scores\n",
    "#print('Logistic: f1=%.3f auc=%.3f' % (lr_f1, lr_auc))\n",
    "# axis labels\n",
    "pyplot.title('Precision-Recall Curve')\n",
    "pyplot.xlabel('Recall')\n",
    "pyplot.ylabel('Precision')\n",
    "# show the legend\n",
    "pyplot.legend()\n",
    "# show the plot\n",
    "pyplot.show()\n",
    "#fig.savefig('DNN Precision-Recall Curve.png', bbox_inches='tight')"
   ]
  },
  {
   "cell_type": "code",
   "execution_count": 18,
   "metadata": {},
   "outputs": [
    {
     "name": "stdout",
     "output_type": "stream",
     "text": [
      "[13/13] features ████████████████████ Time elapsed: 0 seconds"
     ]
    },
    {
     "data": {
      "image/png": "[encoded data removed]",
      "text/plain": [
       "<Figure size 432x288 with 1 Axes>"
      ]
     },
     "metadata": {
      "needs_background": "light"
     },
     "output_type": "display_data"
    }
   ],
   "source": [
    "# Model Interpretation\n",
    "# View Feature importances\n",
    "from skater.core.explanations import Interpretation\n",
    "from skater.model import InMemoryModel\n",
    "\n",
    "stp_interpreter = Interpretation(stp_test_SX, feature_names=stp_features.columns)\n",
    "stp_im_model = InMemoryModel(stp_lr.predict_proba, examples=stp_train_SX, target_names=stp_lr.classes_)\n",
    "plots = stp_interpreter.feature_importance.plot_feature_importance(stp_im_model, ascending=False)\n",
    "plt.xlabel('Relative Importance Score')\n",
    "plt.ylabel('Feature')\n",
    "plt.title('Feature Importances for Logistic Regression')\n",
    "fig = plt.figure(1)\n",
    "#fig.savefig('LR Feature Importance.png', bbox_inches='tight')"
   ]
  },
  {
   "cell_type": "code",
   "execution_count": 23,
   "metadata": {},
   "outputs": [
    {
     "name": "stdout",
     "output_type": "stream",
     "text": [
      "      Abs error X  Abs error Y  Abs error XY  Variability X  Variability Y  \\\n",
      "752      0.127372     0.040152      0.007393       0.470772       0.882473   \n",
      "519      0.722740     0.069738      0.507440       0.699180      -0.108660   \n",
      "210      1.567400     2.897400      2.505300       2.713200       5.169000   \n",
      "611     -0.271770    -0.293400     -0.456910      -0.425300       0.233240   \n",
      "914      2.383200     2.141400      2.745300       2.780900       3.943800   \n",
      "...           ...          ...           ...            ...            ...   \n",
      "1004     0.258178     0.178299      0.205598       0.891443       0.702740   \n",
      "227      2.643546     1.706141      2.752842       4.299890       4.128796   \n",
      "868      0.183693    -1.336939     -0.317707       0.403493      -0.336027   \n",
      "584      0.477500    -0.755980      0.148450      -0.629630      -0.505810   \n",
      "808     -0.945659    -0.786053     -1.143786      -0.485494      -0.695363   \n",
      "\n",
      "      Variability XY  Contraction expansion ratio X  \\\n",
      "752         0.572039                      -0.958014   \n",
      "519         0.580220                       1.376400   \n",
      "210         3.505300                      -5.033800   \n",
      "611        -0.329950                       0.231770   \n",
      "914         3.130300                      -5.290400   \n",
      "...              ...                            ...   \n",
      "1004        0.878290                      -1.694061   \n",
      "227         4.444616                       0.360955   \n",
      "868         0.272452                       1.263471   \n",
      "584        -0.689880                      -1.236000   \n",
      "808        -0.623620                       1.538741   \n",
      "\n",
      "      Contraction expansion ratio Y  Contraction expansion ratio XY   Shift X  \\\n",
      "752                       -1.519233                       -1.109837  0.377567   \n",
      "519                        2.097800                        2.152000  1.359900   \n",
      "210                      -10.177000                       -4.655900 -0.069327   \n",
      "611                       -0.350800                       -0.081633 -0.650510   \n",
      "914                       -9.672500                       -4.617300 -2.395600   \n",
      "...                             ...                             ...       ...   \n",
      "1004                      -1.354734                       -1.631569 -0.430546   \n",
      "227                        0.374961                        0.620417  2.614486   \n",
      "868                       -0.561015                        0.619997  0.261844   \n",
      "584                        0.033863                       -0.904660 -1.322100   \n",
      "808                       -1.275234                        0.403385  0.603160   \n",
      "\n",
      "       Shift Y  Shift XY  Task Score  \n",
      "752   1.154119 -0.604495    0.924289  \n",
      "519  -0.464820  0.685330    1.287100  \n",
      "210   1.704200 -0.288520    5.737800  \n",
      "611   0.146910 -0.153950    0.122970  \n",
      "914   0.280080  1.670500    5.547700  \n",
      "...        ...       ...         ...  \n",
      "1004 -0.744749 -0.524820    0.701390  \n",
      "227   1.651455  1.999047    2.487586  \n",
      "868   0.430890 -1.124073    0.361184  \n",
      "584   0.081887  0.493350    0.456430  \n",
      "808   0.716504 -0.381998    0.533520  \n",
      "\n",
      "[305 rows x 13 columns]\n"
     ]
    }
   ],
   "source": [
    "print(stp_test_SX)"
   ]
  },
  {
   "cell_type": "code",
   "execution_count": 19,
   "metadata": {},
   "outputs": [
    {
     "ename": "TypeError",
     "evalue": "'(slice(None, None, None), [2, 4])' is an invalid key",
     "output_type": "error",
     "traceback": [
      "\u001b[0;31m---------------------------------------------------------------------------\u001b[0m",
      "\u001b[0;31mTypeError\u001b[0m                                 Traceback (most recent call last)",
      "\u001b[0;32m<ipython-input-19-8777485d1ef4>\u001b[0m in \u001b[0;36m<module>\u001b[0;34m\u001b[0m\n\u001b[1;32m      3\u001b[0m                        if feature in ['Abs error XY', 'Variability Y']]\n\u001b[1;32m      4\u001b[0m \u001b[0;34m\u001b[0m\u001b[0m\n\u001b[0;32m----> 5\u001b[0;31m meu.plot_model_decision_surface(clf=stp_lr, train_features=stp_train_SX[:, feature_indices], \n\u001b[0m\u001b[1;32m      6\u001b[0m                                 \u001b[0mtrain_labels\u001b[0m\u001b[0;34m=\u001b[0m\u001b[0mstp_train_y\u001b[0m\u001b[0;34m,\u001b[0m \u001b[0mplot_step\u001b[0m\u001b[0;34m=\u001b[0m\u001b[0;36m0.01\u001b[0m\u001b[0;34m,\u001b[0m \u001b[0mcmap\u001b[0m\u001b[0;34m=\u001b[0m\u001b[0mplt\u001b[0m\u001b[0;34m.\u001b[0m\u001b[0mcm\u001b[0m\u001b[0;34m.\u001b[0m\u001b[0mWistia_r\u001b[0m\u001b[0;34m,\u001b[0m\u001b[0;34m\u001b[0m\u001b[0;34m\u001b[0m\u001b[0m\n\u001b[1;32m      7\u001b[0m                                 markers=[',', 'o'], alphas=[0.9, 0.6], colors=['r', 'b'])\n",
      "\u001b[0;32m~/opt/anaconda3/lib/python3.7/site-packages/pandas/core/frame.py\u001b[0m in \u001b[0;36m__getitem__\u001b[0;34m(self, key)\u001b[0m\n\u001b[1;32m   2978\u001b[0m             \u001b[0;32mif\u001b[0m \u001b[0mself\u001b[0m\u001b[0;34m.\u001b[0m\u001b[0mcolumns\u001b[0m\u001b[0;34m.\u001b[0m\u001b[0mnlevels\u001b[0m \u001b[0;34m>\u001b[0m \u001b[0;36m1\u001b[0m\u001b[0;34m:\u001b[0m\u001b[0;34m\u001b[0m\u001b[0;34m\u001b[0m\u001b[0m\n\u001b[1;32m   2979\u001b[0m                 \u001b[0;32mreturn\u001b[0m \u001b[0mself\u001b[0m\u001b[0;34m.\u001b[0m\u001b[0m_getitem_multilevel\u001b[0m\u001b[0;34m(\u001b[0m\u001b[0mkey\u001b[0m\u001b[0;34m)\u001b[0m\u001b[0;34m\u001b[0m\u001b[0;34m\u001b[0m\u001b[0m\n\u001b[0;32m-> 2980\u001b[0;31m             \u001b[0mindexer\u001b[0m \u001b[0;34m=\u001b[0m \u001b[0mself\u001b[0m\u001b[0;34m.\u001b[0m\u001b[0mcolumns\u001b[0m\u001b[0;34m.\u001b[0m\u001b[0mget_loc\u001b[0m\u001b[0;34m(\u001b[0m\u001b[0mkey\u001b[0m\u001b[0;34m)\u001b[0m\u001b[0;34m\u001b[0m\u001b[0;34m\u001b[0m\u001b[0m\n\u001b[0m\u001b[1;32m   2981\u001b[0m             \u001b[0;32mif\u001b[0m \u001b[0mis_integer\u001b[0m\u001b[0;34m(\u001b[0m\u001b[0mindexer\u001b[0m\u001b[0;34m)\u001b[0m\u001b[0;34m:\u001b[0m\u001b[0;34m\u001b[0m\u001b[0;34m\u001b[0m\u001b[0m\n\u001b[1;32m   2982\u001b[0m                 \u001b[0mindexer\u001b[0m \u001b[0;34m=\u001b[0m \u001b[0;34m[\u001b[0m\u001b[0mindexer\u001b[0m\u001b[0;34m]\u001b[0m\u001b[0;34m\u001b[0m\u001b[0;34m\u001b[0m\u001b[0m\n",
      "\u001b[0;32m~/opt/anaconda3/lib/python3.7/site-packages/pandas/core/indexes/base.py\u001b[0m in \u001b[0;36mget_loc\u001b[0;34m(self, key, method, tolerance)\u001b[0m\n\u001b[1;32m   2895\u001b[0m                 )\n\u001b[1;32m   2896\u001b[0m             \u001b[0;32mtry\u001b[0m\u001b[0;34m:\u001b[0m\u001b[0;34m\u001b[0m\u001b[0;34m\u001b[0m\u001b[0m\n\u001b[0;32m-> 2897\u001b[0;31m                 \u001b[0;32mreturn\u001b[0m \u001b[0mself\u001b[0m\u001b[0;34m.\u001b[0m\u001b[0m_engine\u001b[0m\u001b[0;34m.\u001b[0m\u001b[0mget_loc\u001b[0m\u001b[0;34m(\u001b[0m\u001b[0mkey\u001b[0m\u001b[0;34m)\u001b[0m\u001b[0;34m\u001b[0m\u001b[0;34m\u001b[0m\u001b[0m\n\u001b[0m\u001b[1;32m   2898\u001b[0m             \u001b[0;32mexcept\u001b[0m \u001b[0mKeyError\u001b[0m\u001b[0;34m:\u001b[0m\u001b[0;34m\u001b[0m\u001b[0;34m\u001b[0m\u001b[0m\n\u001b[1;32m   2899\u001b[0m                 \u001b[0;32mreturn\u001b[0m \u001b[0mself\u001b[0m\u001b[0;34m.\u001b[0m\u001b[0m_engine\u001b[0m\u001b[0;34m.\u001b[0m\u001b[0mget_loc\u001b[0m\u001b[0;34m(\u001b[0m\u001b[0mself\u001b[0m\u001b[0;34m.\u001b[0m\u001b[0m_maybe_cast_indexer\u001b[0m\u001b[0;34m(\u001b[0m\u001b[0mkey\u001b[0m\u001b[0;34m)\u001b[0m\u001b[0;34m)\u001b[0m\u001b[0;34m\u001b[0m\u001b[0;34m\u001b[0m\u001b[0m\n",
      "\u001b[0;32mpandas/_libs/index.pyx\u001b[0m in \u001b[0;36mpandas._libs.index.IndexEngine.get_loc\u001b[0;34m()\u001b[0m\n",
      "\u001b[0;32mpandas/_libs/index.pyx\u001b[0m in \u001b[0;36mpandas._libs.index.IndexEngine.get_loc\u001b[0;34m()\u001b[0m\n",
      "\u001b[0;31mTypeError\u001b[0m: '(slice(None, None, None), [2, 4])' is an invalid key"
     ]
    }
   ],
   "source": [
    "# Visualize Model Decision Surface\n",
    "feature_indices = [i for i, feature in enumerate(stp_feature_names) \n",
    "                       if feature in ['Abs error XY', 'Variability Y']]\n",
    "\n",
    "meu.plot_model_decision_surface(clf=stp_lr, train_features=stp_train_SX[:, feature_indices], \n",
    "                                train_labels=stp_train_y, plot_step=0.01, cmap=plt.cm.Wistia_r,\n",
    "                                markers=[',', 'o'], alphas=[0.9, 0.6], colors=['r', 'b'])\n",
    "#fig = plt.figure(1)\n",
    "#fig.savefig('Visualize Model Decision Surface')"
   ]
  },
  {
   "cell_type": "markdown",
   "metadata": {},
   "source": [
    "# Predicting Data Quality"
   ]
  },
  {
   "cell_type": "code",
   "execution_count": 20,
   "metadata": {},
   "outputs": [
    {
     "name": "stdout",
     "output_type": "stream",
     "text": [
      "Counter({'stroke': 379, 'control': 331}) Counter({'stroke': 171, 'control': 134})\n",
      "Features: ['Abs error X', 'Abs error Y', 'Abs error XY', 'Variability X', 'Variability Y', 'Variability XY', 'Contraction expansion ratio X', 'Contraction expansion ratio Y', 'Contraction expansion ratio XY', 'Shift X', 'Shift Y', 'Shift XY', 'Task Score']\n"
     ]
    }
   ],
   "source": [
    "# Predicting Data Quality\n",
    "\n",
    "# Prepare Training and Testing Datasets\n",
    "sqp_features = datas.iloc[:,:-1]\n",
    "sqp_class_labels = np.array(datas['Abs error XY'])\n",
    "sqp_label_names = ['low', 'medium', 'high']\n",
    "sqp_feature_names = stp_features.columns\n",
    "sqp_class_labels = np.array(datas['data_type'])\n",
    "\n",
    "sqp_train_X, sqp_test_X, sqp_train_y, sqp_test_y = train_test_split(sqp_features, sqp_class_labels, \n",
    "                                                                    test_size=0.3, random_state=42)\n",
    "\n",
    "print(Counter(sqp_train_y), Counter(sqp_test_y))\n",
    "print('Features:', list(stp_feature_names))"
   ]
  },
  {
   "cell_type": "code",
   "execution_count": 21,
   "metadata": {},
   "outputs": [],
   "source": [
    "# Feature Scaling\n",
    "\n",
    "# Define the scaler \n",
    "#sqp_ss = StandardScaler().fit(sqp_train_X)\n",
    "sqp_ss = sqp_train_X\n",
    "\n",
    "# Scale the train set\n",
    "#sqp_train_SX = sqp_ss.transform(sqp_train_X)\n",
    "sqp_train_SX = sqp_train_X\n",
    "\n",
    "# Scale the test set\n",
    "#sqp_test_SX = sqp_ss.transform(sqp_test_X)\n",
    "sqp_test_SX = sqp_test_X"
   ]
  },
  {
   "cell_type": "markdown",
   "metadata": {},
   "source": [
    "### Train, Predict & Evaluate Model using Decision Tree"
   ]
  },
  {
   "cell_type": "code",
   "execution_count": 22,
   "metadata": {},
   "outputs": [
    {
     "data": {
      "image/png": "[encoded data removed]",
      "text/plain": [
       "<Figure size 432x288 with 1 Axes>"
      ]
     },
     "metadata": {
      "needs_background": "light"
     },
     "output_type": "display_data"
    },
    {
     "data": {
      "image/png": "[encoded data removed]",
      "text/plain": [
       "<Figure size 432x288 with 1 Axes>"
      ]
     },
     "metadata": {
      "needs_background": "light"
     },
     "output_type": "display_data"
    }
   ],
   "source": [
    "# https://www.dlology.com/blog/simple-guide-on-how-to-generate-roc-plot-for-keras-classifier/\n",
    "# Train, Predict & Evaluate Model using Decision Tree\n",
    "\n",
    "from sklearn.tree import DecisionTreeClassifier\n",
    "\n",
    "stp_dt = DecisionTreeClassifier(max_depth=4) # max_depth=4 gives us best result\n",
    "stp_dt.fit(sqp_train_SX, sqp_train_y)\n",
    "\n",
    "y_pred_dt = stp_dt.predict(stp_test_SX)\n",
    "y_pred_prob_dt = stp_dt.predict_proba(stp_test_SX)[:,1]\n",
    "\n",
    "fpr_dt, tpr_dt, thresholds_dt = roc_curve(stp_test_ey, y_pred_prob_dt)\n",
    "\n",
    "# AUC value can also be calculated like this.\n",
    "from sklearn.metrics import auc\n",
    "auc_dt = auc(fpr_dt, tpr_dt)\n",
    "#print(auc_dt)\n",
    "\n",
    "\n",
    "plt.xlim(0, 1)\n",
    "plt.ylim(0, 1)\n",
    "plt.plot([0, 1], [0, 1], 'k--')\n",
    "plt.plot(fpr_dt, tpr_dt, label='DT (area = {:.2f})'.format(auc_dt))\n",
    "plt.xlabel('False Positive Rate')\n",
    "plt.ylabel('True Positive Rate')\n",
    "plt.title('ROC Curve')\n",
    "plt.legend(loc='best')\n",
    "plt.show()\n",
    "#fig.savefig('DT ROC Curve.png', bbox_inches='tight')\n",
    "\n",
    "# calculate precision and recall for each threshold\n",
    "dt_precision, dt_recall, _ = precision_recall_curve(stp_test_ey, y_pred_prob_dt)\n",
    "# calculate scores\n",
    "#lr_f1, lr_auc = f1_score(wtp_test_ey, y_pred_prob_lr), auc(lr_recall, lr_precision)\n",
    "fig = plt.figure(2)\n",
    "pyplot.plot(dt_recall, dt_precision, marker='.', label='DT')\n",
    "# summarize scores\n",
    "#print('Logistic: f1=%.3f auc=%.3f' % (lr_f1, lr_auc))\n",
    "# axis labels\n",
    "pyplot.title('Precision-Recall Curve')\n",
    "pyplot.xlabel('Recall')\n",
    "pyplot.ylabel('Precision')\n",
    "# show the legend\n",
    "pyplot.legend()\n",
    "# show the plot\n",
    "pyplot.show()\n",
    "#fig.savefig('DT Precision-Recall Curve.png', bbox_inches='tight')"
   ]
  },
  {
   "cell_type": "code",
   "execution_count": null,
   "metadata": {},
   "outputs": [],
   "source": [
    "#### Train, Predict & Evaluate Model using Decision Tree\n",
    "\n",
    "from sklearn.tree import DecisionTreeClassifier\n",
    "\n",
    "sqp_dt = DecisionTreeClassifier(max_depth=4)\n",
    "sqp_dt.fit(sqp_train_SX, sqp_train_y)\n",
    "\n",
    "sqp_dt_predictions = sqp_dt.predict(sqp_test_SX)\n",
    "\n",
    "meu.display_model_performance_metrics(true_labels=sqp_test_y, predicted_labels=sqp_dt_predictions, \n",
    "                                      classes=['stroke', 'control'])#classes=stp_class_labels)"
   ]
  },
  {
   "cell_type": "code",
   "execution_count": null,
   "metadata": {},
   "outputs": [],
   "source": [
    "# View Model ROC Curve\n",
    "meu.plot_model_roc_curve(sqp_dt, sqp_test_SX, sqp_test_y)"
   ]
  },
  {
   "cell_type": "code",
   "execution_count": null,
   "metadata": {},
   "outputs": [],
   "source": [
    "# View Feature Importances from Decision Tree Model\n",
    "sqp_dt_feature_importances = sqp_dt.feature_importances_\n",
    "sqp_dt_feature_names, sqp_dt_feature_scores = zip(*sorted(zip(sqp_feature_names, sqp_dt_feature_importances), \n",
    "                                                          key=lambda x: x[1]))\n",
    "y_position = list(range(len(sqp_dt_feature_names)))\n",
    "fig = plt.figure(1)\n",
    "plt.barh(y_position, sqp_dt_feature_scores, height=0.6, align='center')\n",
    "plt.yticks(y_position , sqp_dt_feature_names)\n",
    "plt.xlabel('Relative Importance Score')\n",
    "plt.ylabel('Feature')\n",
    "t = plt.title('Feature Importances for Decision Tree')\n",
    "#fig.savefig('DT Feature Importance.png', bbox_inches='tight')"
   ]
  },
  {
   "cell_type": "code",
   "execution_count": null,
   "metadata": {},
   "outputs": [],
   "source": [
    "# Visualize the Decision Tree\n",
    "\n",
    "from graphviz import Source\n",
    "from sklearn import tree\n",
    "from IPython.display import Image\n",
    "\n",
    "graph = Source(tree.export_graphviz(sqp_dt, out_file=None, class_names=stp_class_labels,\n",
    "                                    filled=True, rounded=True, special_characters=False,\n",
    "                                    feature_names=sqp_feature_names, max_depth=4))\n",
    "png_data = graph.pipe(format='png')\n",
    "with open('dtree_structure.png','wb') as f:\n",
    "    f.write(png_data)\n",
    "\n",
    "Image(png_data)"
   ]
  },
  {
   "cell_type": "markdown",
   "metadata": {},
   "source": [
    "### Train, Predict & Evaluate Model using Random Forests"
   ]
  },
  {
   "cell_type": "code",
   "execution_count": null,
   "metadata": {},
   "outputs": [],
   "source": [
    "# https://www.dlology.com/blog/simple-guide-on-how-to-generate-roc-plot-for-keras-classifier/\n",
    "# Train, Predict & Evaluate Model using Random Forests\n",
    "from sklearn.ensemble import RandomForestClassifier\n",
    "# train the model\n",
    "stp_rf = RandomForestClassifier()\n",
    "stp_rf.fit(sqp_train_SX, sqp_train_y)\n",
    "\n",
    "y_pred_rf = stp_rf.predict(stp_test_SX)\n",
    "y_pred_prob_rf = stp_rf.predict_proba(stp_test_SX)[:,1]\n",
    "\n",
    "fpr_rf, tpr_rf, thresholds_rf = roc_curve(stp_test_ey, y_pred_prob_rf)\n",
    "\n",
    "# AUC value can also be calculated like this.\n",
    "from sklearn.metrics import auc\n",
    "auc_rf = auc(fpr_rf, tpr_rf)\n",
    "#print(auc_rf)\n",
    "\n",
    "fig = plt.figure(1)\n",
    "plt.xlim(0, 1)\n",
    "plt.ylim(0, 1)\n",
    "plt.plot([0, 1], [0, 1], 'k--')\n",
    "plt.plot(fpr_rf, tpr_rf, label='RF (area = {:.2f})'.format(auc_rf))\n",
    "plt.xlabel('False Positive Rate')\n",
    "plt.ylabel('True Positive Rate')\n",
    "plt.title('ROC Curve')\n",
    "plt.legend(loc='best')\n",
    "plt.show()\n",
    "#fig.savefig('RF ROC Curve.png', bbox_inches='tight')\n",
    "\n",
    "# calculate precision and recall for each threshold\n",
    "rf_precision, rf_recall, _ = precision_recall_curve(stp_test_ey, y_pred_prob_rf)\n",
    "# calculate scores\n",
    "#lr_f1, lr_auc = f1_score(stp_test_ey, y_pred_prob_lr), auc(lr_recall, lr_precision)\n",
    "fig = plt.figure(2)\n",
    "pyplot.plot(rf_recall, rf_precision, marker='.', label='RF')\n",
    "# summarize scores\n",
    "#print('Logistic: f1=%.3f auc=%.3f' % (lr_f1, lr_auc))\n",
    "# axis labels\n",
    "pyplot.title('Precision-Recall Curve')\n",
    "pyplot.xlabel('Recall')\n",
    "pyplot.ylabel('Precision')\n",
    "# show the legend\n",
    "pyplot.legend()\n",
    "# show the plot\n",
    "pyplot.show()\n",
    "#fig.savefig('RF Precision-Recall Curve.png', bbox_inches='tight')"
   ]
  },
  {
   "cell_type": "code",
   "execution_count": null,
   "metadata": {},
   "outputs": [],
   "source": [
    "# Plot all ROC curve together\n",
    "plt.figure(1)\n",
    "plt.xlim(0, 1)\n",
    "plt.ylim(0, 1)\n",
    "plt.plot([0, 1], [0, 1], 'k--')\n",
    "plt.plot(fpr_lr, tpr_lr, label='LR (area = {:.2f})'.format(auc_lr))\n",
    "plt.plot(fpr_dnn, tpr_dnn, label='DNN (area = {:.2f})'.format(auc_dnn))\n",
    "plt.plot(fpr_dt, tpr_dt, label='DT (area = {:.2f})'.format(auc_dt))\n",
    "plt.plot(fpr_rf, tpr_rf, label='RF (area = {:.2f})'.format(auc_rf)) \n",
    "plt.xlabel('False Positive Rate')\n",
    "plt.ylabel('True Positive Rate')\n",
    "plt.title('ROC curve')\n",
    "plt.legend(loc='best')\n",
    "plt.show()"
   ]
  },
  {
   "cell_type": "code",
   "execution_count": null,
   "metadata": {},
   "outputs": [],
   "source": [
    "# Plot all Precision-Recall curve all together\n",
    "plt.figure(1)\n",
    "#plt.xlim(0, 1)\n",
    "#plt.ylim(0, 1)\n",
    "#plt.plot([0, 1], [0, 1], 'k--')\n",
    "plt.plot(lr_precision, lr_recall, label='LR')\n",
    "plt.plot(dnn_precision, dnn_recall, label='DNN')\n",
    "plt.plot(dt_precision, dt_recall, label='DT')\n",
    "plt.plot(rf_precision, rf_recall, label='RF') \n",
    "plt.xlabel('Recall')\n",
    "plt.ylabel('Precision')\n",
    "plt.title('Precision-Recall Curve')\n",
    "plt.legend(loc='best')\n",
    "plt.show()"
   ]
  },
  {
   "cell_type": "code",
   "execution_count": null,
   "metadata": {},
   "outputs": [],
   "source": [
    "# Train, Predict & Evaluate Model using Random Forests\n",
    "from sklearn.ensemble import RandomForestClassifier\n",
    "# train the model\n",
    "sqp_rf = RandomForestClassifier()\n",
    "sqp_rf.fit(sqp_train_SX, sqp_train_y)\n",
    "# predict and evaluate performance\n",
    "sqp_rf_predictions = sqp_rf.predict(sqp_test_SX)\n",
    "meu.display_model_performance_metrics(true_labels=sqp_test_y, predicted_labels=sqp_rf_predictions, \n",
    "                                      classes=['stroke', 'control'])#classes=sqp_label_names)"
   ]
  },
  {
   "cell_type": "code",
   "execution_count": null,
   "metadata": {},
   "outputs": [],
   "source": [
    "# View Model ROC Curve\n",
    "meu.plot_model_roc_curve(sqp_rf, sqp_test_SX, sqp_test_y)"
   ]
  },
  {
   "cell_type": "markdown",
   "metadata": {},
   "source": [
    "### Hyperparameter tuning with Grid Search & Cross Validation"
   ]
  },
  {
   "cell_type": "code",
   "execution_count": null,
   "metadata": {},
   "outputs": [],
   "source": [
    "# Hyperparameter tuning with Grid Search & Cross Validation\n",
    "print(sqp_rf.get_params())"
   ]
  },
  {
   "cell_type": "code",
   "execution_count": null,
   "metadata": {},
   "outputs": [],
   "source": [
    "# Get the best hyperparameter values\n",
    "from sklearn.model_selection import GridSearchCV\n",
    "\n",
    "param_grid = {\n",
    "                'n_estimators': [100, 200, 300, 500], \n",
    "                'max_features': ['auto', None, 'log2']    \n",
    "              }\n",
    "\n",
    "sqp_clf = GridSearchCV(RandomForestClassifier(random_state=42), param_grid, cv=5,\n",
    "                       scoring='accuracy')\n",
    "sqp_clf.fit(sqp_train_SX, sqp_train_y)\n",
    "print(sqp_clf.best_params_)"
   ]
  },
  {
   "cell_type": "code",
   "execution_count": null,
   "metadata": {},
   "outputs": [],
   "source": [
    "# View grid search results\n",
    "results = sqp_clf.cv_results_\n",
    "for param, score_mean, score_sd in zip(results['params'], results['mean_test_score'], results['std_test_score']):\n",
    "    print(param, round(score_mean, 4), round(score_sd, 4))"
   ]
  },
  {
   "cell_type": "markdown",
   "metadata": {},
   "source": [
    "### Train, Predict & Evaluate Random Forest Model with tuned hyperparameters"
   ]
  },
  {
   "cell_type": "code",
   "execution_count": null,
   "metadata": {},
   "outputs": [],
   "source": [
    "# Train, Predict & Evaluate Random Forest Model with tuned hyperparameters\n",
    "sqp_rft = RandomForestClassifier(n_estimators=200, max_features='auto', random_state=42)\n",
    "sqp_rft.fit(sqp_train_SX, sqp_train_y)\n",
    "\n",
    "sqp_rft_predictions = sqp_rft.predict(sqp_test_SX)\n",
    "meu.display_model_performance_metrics(true_labels=sqp_test_y, predicted_labels=sqp_rft_predictions, \n",
    "                                      classes=['stroke', 'control'])#classes=sqp_label_names)"
   ]
  },
  {
   "cell_type": "code",
   "execution_count": null,
   "metadata": {},
   "outputs": [],
   "source": [
    "# https://www.dlology.com/blog/simple-guide-on-how-to-generate-roc-plot-for-keras-classifier/\n",
    "# Train, Predict & Evaluate Random Forest Model with tuned hyperparameters\n",
    "from sklearn.metrics import roc_curve\n",
    "stp_rft = RandomForestClassifier(n_estimators=200, max_features='auto', random_state=42)\n",
    "stp_rft.fit(sqp_train_SX, sqp_train_y)\n",
    "\n",
    "#wqp_rft_predictions = wqp_rft.predict(wqp_test_SX)\n",
    "y_pred_rft = stp_rft.predict(stp_test_SX)\n",
    "#print(y_pred_rft)\n",
    "y_pred_prob_rft = stp_rft.predict_proba(stp_test_SX)[:,1]\n",
    "\n",
    "fpr_rft, tpr_rft, thresholds_rft = roc_curve(stp_test_ey, y_pred_prob_rft)\n",
    "\n",
    "# AUC value can also be calculated like this.\n",
    "from sklearn.metrics import auc\n",
    "auc_rft = auc(fpr_rft, tpr_rft)\n",
    "#print(auc_rft)\n",
    "\n",
    "fig = plt.figure(1)\n",
    "plt.xlim(0, 1)\n",
    "plt.ylim(0, 1)\n",
    "plt.plot([0, 1], [0, 1], 'k--')\n",
    "plt.plot(fpr_rft, tpr_rft, label='RFT (area = {:.2f})'.format(auc_rft))\n",
    "plt.xlabel('False positive rate')\n",
    "plt.ylabel('True positive rate')\n",
    "plt.title('ROC curve')\n",
    "plt.legend(loc='best')\n",
    "plt.show()\n",
    "#fig.savefig('RFT ROC Curve.png', bbox_inches='tight')\n",
    "\n",
    "# calculate precision and recall for each threshold\n",
    "rft_precision, rft_recall, _ = precision_recall_curve(stp_test_ey, y_pred_prob_rft)\n",
    "# calculate scores\n",
    "#lr_f1, lr_auc = f1_score(wtp_test_ey, y_pred_prob_lr), auc(lr_recall, lr_precision)\n",
    "fig = plt.figure(2)\n",
    "pyplot.plot(rft_recall, rft_precision, marker='.', label='RFT')\n",
    "# summarize scores\n",
    "#print('Logistic: f1=%.3f auc=%.3f' % (lr_f1, lr_auc))\n",
    "# axis labels\n",
    "pyplot.title('Precision-Recall Curve')\n",
    "pyplot.xlabel('Recall')\n",
    "pyplot.ylabel('Precision')\n",
    "# show the legend\n",
    "pyplot.legend()\n",
    "# show the plot\n",
    "pyplot.show()\n",
    "#fig.savefig('RFT Precision-Recall Curve.png', bbox_inches='tight')"
   ]
  },
  {
   "cell_type": "markdown",
   "metadata": {},
   "source": [
    "### Train, Predict & Evaluate Model using Extreme Gradient Boosting"
   ]
  },
  {
   "cell_type": "code",
   "execution_count": null,
   "metadata": {},
   "outputs": [],
   "source": [
    "import sys\n",
    "print(sys.base_prefix)"
   ]
  },
  {
   "cell_type": "code",
   "execution_count": null,
   "metadata": {},
   "outputs": [],
   "source": [
    "import sys\n",
    "!{sys.executable} -m pip install xgboost"
   ]
  },
  {
   "cell_type": "code",
   "execution_count": null,
   "metadata": {},
   "outputs": [],
   "source": [
    "import os\n",
    "\n",
    "mingw_path = r'/Users/delowarhossain/opt/anaconda3'\n",
    "os.environ['PATH'] = mingw_path + ';' + os.environ['PATH']\n",
    "\n",
    "import xgboost as xgb"
   ]
  },
  {
   "cell_type": "code",
   "execution_count": null,
   "metadata": {},
   "outputs": [],
   "source": [
    "print(import os)\n"
   ]
  },
  {
   "cell_type": "markdown",
   "metadata": {},
   "source": [
    "### Model Interpretation"
   ]
  },
  {
   "cell_type": "code",
   "execution_count": null,
   "metadata": {},
   "outputs": [],
   "source": [
    "# Comparative analysis of Model Feature importances\n",
    "from skater.core.explanations import Interpretation\n",
    "from skater.model import InMemoryModel\n",
    "# leveraging skater for feature importances\n",
    "interpreter = Interpretation(sqp_test_SX, feature_names=sqp_feature_names)\n",
    "sqp_im_model = InMemoryModel(sqp_rf.predict_proba, examples=sqp_train_SX, target_names=sqp_rf.classes_)\n",
    "# retrieving feature importances from the scikit-learn estimator\n",
    "sqp_rf_feature_importances = sqp_rf.feature_importances_\n",
    "sqp_rf_feature_names, sqp_rf_feature_scores = zip(*sorted(zip(sqp_feature_names, sqp_rf_feature_importances), \n",
    "                                                          key=lambda x: x[1]))\n",
    "# plot the feature importance plots\n",
    "#fig = plt.figure(1)\n",
    "f, (ax1, ax2) = plt.subplots(1, 2, figsize=(10, 4))\n",
    "t = f.suptitle('Feature Importances for Random Forest', fontsize=12)\n",
    "f.subplots_adjust(top=0.85, wspace=0.6)\n",
    "y_position = list(range(len(sqp_rf_feature_names)))\n",
    "ax1.barh(y_position, sqp_rf_feature_scores, height=0.6, align='center', tick_label=sqp_rf_feature_names)\n",
    "ax1.set_title(\"Scikit-Learn\")\n",
    "ax1.set_xlabel('Relative Importance Score')\n",
    "ax1.set_ylabel('Feature')\n",
    "plots = interpreter.feature_importance.plot_feature_importance(sqp_im_model, ascending=False, ax=ax2)\n",
    "ax2.set_title(\"Skater\")\n",
    "ax2.set_xlabel('Relative Importance Score')\n",
    "ax2.set_ylabel('Feature')\n",
    "#fig.savefig('RF Relative Importance Score.png', bbox_inches='tight')"
   ]
  },
  {
   "cell_type": "code",
   "execution_count": null,
   "metadata": {},
   "outputs": [],
   "source": [
    "print(sqp_im_model)"
   ]
  },
  {
   "cell_type": "code",
   "execution_count": null,
   "metadata": {},
   "outputs": [],
   "source": [
    "# View Model ROC Curve\n",
    "meu.plot_model_roc_curve(sqp_rf, sqp_test_SX, sqp_test_y)"
   ]
  },
  {
   "cell_type": "code",
   "execution_count": null,
   "metadata": {},
   "outputs": [],
   "source": [
    "# Visualize Model decision surface\n",
    "feature_indices = [i for i, feature in enumerate(sqp_feature_names) \n",
    "                       if feature in ['Variability Y', 'Abs error XY']]\n",
    "meu.plot_model_decision_surface(clf=sqp_rf, train_features=sqp_train_SX[:, feature_indices], \n",
    "                      train_labels=sqp_train_y, plot_step=0.01, cmap=plt.cm.RdYlBu,\n",
    "                      markers=[',', 'd'], alphas=[0.6, 0.56], colors=['r', 'b'])\n",
    "                      #markers=[',', 'd', '+'], alphas=[1.0, 0.8, 0.5], colors=['r', 'b', 'y'])"
   ]
  },
  {
   "cell_type": "code",
   "execution_count": null,
   "metadata": {},
   "outputs": [],
   "source": [
    "# Interpreting Model Predictions\n",
    "\n",
    "from skater.core.local_interpretation.lime.lime_tabular import LimeTabularExplainer\n",
    "\n",
    "exp = LimeTabularExplainer(sqp_train_SX, feature_names=sqp_feature_names, \n",
    "                           discretize_continuous=True, \n",
    "                           class_names=sqp_rf.classes_)"
   ]
  },
  {
   "cell_type": "code",
   "execution_count": null,
   "metadata": {
    "scrolled": true
   },
   "outputs": [],
   "source": [
    "exp.explain_instance(sqp_test_SX[10], sqp_rf.predict_proba, top_labels=1).show_in_notebook()\n",
    "#fig = plt.figure(1)\n",
    "#fig.savefig('RF Prediction Prob1.png', bbox_inches='tight')"
   ]
  },
  {
   "cell_type": "code",
   "execution_count": null,
   "metadata": {},
   "outputs": [],
   "source": [
    "exp.explain_instance(sqp_test_SX[4], sqp_rf.predict_proba, top_labels=1).show_in_notebook()"
   ]
  },
  {
   "cell_type": "code",
   "execution_count": null,
   "metadata": {},
   "outputs": [],
   "source": [
    "exp.explain_instance(sqp_test_SX[1], sqp_rf.predict_proba, top_labels=1).show_in_notebook()"
   ]
  },
  {
   "cell_type": "code",
   "execution_count": null,
   "metadata": {},
   "outputs": [],
   "source": [
    "# Visualizing partial dependencies\n",
    "axes_list = interpreter.partial_dependence.plot_partial_dependence(['Abs error XY'], sqp_im_model, \n",
    "                                                                   grid_resolution=100, \n",
    "                                                                   with_variance=True,\n",
    "                                                                   figsize = (6, 4))\n",
    "axs = axes_list[0][3:]\n",
    "[ax.set_ylim(0, 1) for ax in axs];\n",
    "#fig.savefig('PPD Abs XY.png', bbox_inches='tight')"
   ]
  },
  {
   "cell_type": "code",
   "execution_count": null,
   "metadata": {},
   "outputs": [],
   "source": [
    "# Visualizing partial dependencies\n",
    "axes_list = interpreter.partial_dependence.plot_partial_dependence(['Variability XY'], sqp_im_model, \n",
    "                                                                   grid_resolution=100, \n",
    "                                                                   with_variance=True,\n",
    "                                                                   figsize = (6, 4))\n",
    "axs = axes_list[0][3:]\n",
    "[ax.set_ylim(0, 1) for ax in axs];\n",
    "#fig.savefig('PPD Abs XY.png', bbox_inches='tight')"
   ]
  },
  {
   "cell_type": "code",
   "execution_count": null,
   "metadata": {},
   "outputs": [],
   "source": [
    "print(interpreter.partial_dependence)"
   ]
  },
  {
   "cell_type": "code",
   "execution_count": null,
   "metadata": {},
   "outputs": [],
   "source": [
    "plots_list = interpreter.partial_dependence.plot_partial_dependence([('Abs error XY', 'Variability XY')], sqp_im_model, n_samples=1000, figsize=(12, 5),\n",
    "                                                                    grid_resolution=100)\n",
    "axs = plots_list[0][3:]\n",
    "[ax.set_zlim(0, 1) for ax in axs];\n",
    "#fig.savefig('PPD Abs and Variability.png', bbox_inches='tight')"
   ]
  },
  {
   "cell_type": "code",
   "execution_count": null,
   "metadata": {},
   "outputs": [],
   "source": [
    "plots_list = interpreter.partial_dependence.plot_partial_dependence([('Variability XY', 'Variability Y')], sqp_im_model, n_samples=1000, figsize=(12, 5),\n",
    "                                                                    grid_resolution=100)\n",
    "axs = plots_list[0][3:]\n",
    "[ax.set_zlim(0, 1) for ax in axs];\n",
    "#fig.savefig('PPD Abs and Variability.png', bbox_inches='tight')"
   ]
  },
  {
   "cell_type": "markdown",
   "metadata": {},
   "source": [
    "Comments for the above figure:\n",
    "We run a deeper model interpretation here over all the data samples, trying to see interactions between Abs error XY and Variability XY and also their effect on the probability of the model predicting if the person have stroke, with the help of a two-way partial dependence plot.\n",
    "Basically having a better Abs error XY and more Variability XY leads to you identify more stroke participants!"
   ]
  },
  {
   "cell_type": "code",
   "execution_count": null,
   "metadata": {},
   "outputs": [],
   "source": [
    "stp_ss.inverse_transform('Abs error XY')\n",
    "plots_list = interpreter.partial_dependence.plot_partial_dependence([(stp_ss.inverse_transform('Abs error XY'), stp_ss.inverse_transform('Variability XY'))], \n",
    "                                                                    sqp_im_model, n_samples=1000, figsize=(12, 5),\n",
    "                                                                    grid_resolution=100)\n",
    "axs = plots_list[0][3:]\n",
    "[ax.set_zlim(0, 1) for ax in axs];"
   ]
  },
  {
   "cell_type": "code",
   "execution_count": null,
   "metadata": {},
   "outputs": [],
   "source": [
    "# Support Vector Machine\n",
    "from sklearn.svm import SVC\n",
    "\n",
    "# Build default SVM Model\n",
    "def_svc = SVC(random_state=42)\n",
    "def_svc.fit(stp_train_SX, stp_train_y)\n",
    "\n",
    "# predict and evalute model performance\n",
    "stp_svm_predictions = def_svc.predict(stp_test_SX)\n",
    "#print(wtp_lr_predictions)\n",
    "meu.display_model_performance_metrics(true_labels=stp_test_y, predicted_labels=stp_svm_predictions, \n",
    "                                      classes=['stroke', 'control'])"
   ]
  },
  {
   "cell_type": "code",
   "execution_count": null,
   "metadata": {},
   "outputs": [],
   "source": [
    "## SVM Classifier\n",
    "from sklearn.svm import SVC\n",
    "from sklearn.metrics import roc_curve\n",
    "from sklearn.metrics import auc\n",
    "from sklearn.metrics import precision_recall_curve\n",
    "from sklearn.metrics import f1_score\n",
    "from matplotlib import pyplot\n",
    "\n",
    "stp_svm = SVC(random_state=42, probability=True)\n",
    "stp_svm.fit(stp_train_SX, stp_train_y)\n",
    "\n",
    "y_pred_svm = stp_svm.predict(stp_test_SX)\n",
    "y_pred_prob_svm = stp_svm.predict_proba(stp_test_SX)[:,1]\n",
    "\n",
    "fpr_svm, tpr_svm, thresholds_svm = roc_curve(stp_test_ey, y_pred_prob_svm)\n",
    "\n",
    "# AUC value can also be calculated like this.\n",
    "auc_svm = auc(fpr_svm, tpr_svm)\n",
    "#print(auc_lr)\n",
    "\n",
    "plt.figure(1)\n",
    "plt.xlim(0, 1)\n",
    "plt.ylim(0, 1)\n",
    "plt.plot([0, 1], [0, 1], 'k--')\n",
    "plt.plot(fpr_svm, tpr_svm, label='SVM (area = {:.2f})'.format(auc_svm))\n",
    "plt.xlabel('False Positive Rate')\n",
    "plt.ylabel('True Positive Rate')\n",
    "plt.title('SVM ROC Curve')\n",
    "plt.legend(loc='best')\n",
    "plt.show()\n",
    "\n",
    "# calculate precision and recall for each threshold\n",
    "svm_precision, svm_recall, _ = precision_recall_curve(stp_test_ey, y_pred_prob_svm)\n",
    "#print(lr_precision)\n",
    "# calculate scores\n",
    "#lr_f1, lr_auc = f1_score(wtp_test_ey, y_pred_prob_lr), auc(lr_recall, lr_precision)\n",
    "plt.figure(2)\n",
    "pyplot.plot(svm_recall, svm_precision, marker='.', label='svm')\n",
    "# summarize scores\n",
    "#print('Logistic: f1=%.3f auc=%.3f' % (lr_f1, lr_auc))\n",
    "# axis labels\n",
    "pyplot.title('SVM Precision-Recall Curve')\n",
    "pyplot.xlabel('Recall')\n",
    "pyplot.ylabel('Precision')\n",
    "# show the legend\n",
    "pyplot.legend()\n",
    "# show the plot\n",
    "pyplot.show()"
   ]
  },
  {
   "cell_type": "code",
   "execution_count": null,
   "metadata": {},
   "outputs": [],
   "source": [
    "# Model Interpretation\n",
    "# View Feature importances\n",
    "from skater.core.explanations import Interpretation\n",
    "from skater.model import InMemoryModel\n",
    "\n",
    "stp_interpreter = Interpretation(stp_test_SX, feature_names=stp_features.columns)\n",
    "stp_im_model = InMemoryModel(stp_svm.predict_proba, examples=stp_train_SX, target_names=stp_svm.classes_)\n",
    "plots = stp_interpreter.feature_importance.plot_feature_importance(stp_im_model, ascending=False)\n",
    "plt.xlabel('Relative Importance Score')\n",
    "plt.ylabel('Feature')\n",
    "plt.title('Feature Importances for SVM')\n",
    "fig = plt.figure(1)\n",
    "#fig.savefig('LR Feature Importance.png', bbox_inches='tight')"
   ]
  },
  {
   "cell_type": "code",
   "execution_count": null,
   "metadata": {},
   "outputs": [],
   "source": [
    "# Comparing variable importance across all models\n",
    "models = {'lr':LogisticRegression(),\n",
    "          'dt':DecisionTreeClassifier(max_depth=4),\n",
    "          'rf':RandomForestClassifier(),\n",
    "          'rft':RandomForestClassifier(n_estimators=200, max_features='auto', random_state=42), \n",
    "          'svm':SVC(random_state=42, probability=True)}\n",
    "\n",
    "#lr.fit(stp_train_SX, stp_train_y)\n",
    "for model_key in models:\n",
    "    model = models[model_key]\n",
    "    model.fit(stp_train_SX, stp_train_y)\n",
    "    preds = model.predict(stp_test_SX)\n",
    "\n",
    "f, axes = plt.subplots(3,2, figsize = (16,16))\n",
    "\n",
    "ax_dict = {\n",
    "    'lr':axes[0][0],\n",
    "    'dt':axes[0][1],\n",
    "    'rf':axes[1][0],\n",
    "    'rft':axes[1][1],\n",
    "    'svm':axes[2][0]\n",
    "}\n",
    "\n",
    "interpreter = Interpretation(stp_test_SX, feature_names=stp_features.columns)#(X_test, feature_names=data.feature_names)\n",
    "\n",
    "for model_key in models:\n",
    "    pyint_model = InMemoryModel(models[model_key].predict_proba, examples=stp_train_SX)\n",
    "    ax = ax_dict[model_key]\n",
    "    interpreter.feature_importance.plot_feature_importance(pyint_model, ax=ax, ascending = False)\n",
    "    ax.set_title(model_key)\n",
    "    #ax1.set_title(\"Scikit-Learn\")\n",
    "    ax.set_xlabel('Relative Importance Score')\n",
    "    ax.set_ylabel('Features')"
   ]
  },
  {
   "cell_type": "code",
   "execution_count": null,
   "metadata": {},
   "outputs": [],
   "source": [
    "# LR\n",
    "stp_interpreter = Interpretation(stp_test_SX, feature_names=stp_features.columns)\n",
    "stp_im_model = InMemoryModel(stp_lr.predict_proba, examples=stp_train_SX, target_names=stp_lr.classes_)\n",
    "plots = stp_interpreter.feature_importance.plot_feature_importance(stp_im_model, ascending=False)\n",
    "\n",
    "# View Feature Importances from Decision Tree Model\n",
    "sqp_dt_feature_importances = sqp_dt.feature_importances_\n",
    "sqp_dt_feature_names, sqp_dt_feature_scores = zip(*sorted(zip(sqp_feature_names, sqp_dt_feature_importances), \n",
    "                                                          key=lambda x: x[1]))\n",
    "\n",
    "#RF\n",
    "interpreter = Interpretation(sqp_test_SX, feature_names=sqp_feature_names)\n",
    "sqp_im_model = InMemoryModel(sqp_rf.predict_proba, examples=sqp_train_SX, target_names=sqp_rf.classes_)\n",
    "# retrieving feature importances from the scikit-learn estimator\n",
    "sqp_rf_feature_importances = sqp_rf.feature_importances_\n",
    "sqp_rf_feature_names, sqp_rf_feature_scores = zip(*sorted(zip(sqp_feature_names, sqp_rf_feature_importances), \n",
    "                                                          key=lambda x: x[1]))\n",
    "#SVM\n",
    "stp_interpreter = Interpretation(stp_test_SX, feature_names=stp_features.columns)\n",
    "stp_im_model = InMemoryModel(stp_svm.predict_proba, examples=stp_train_SX, target_names=stp_svm.classes_)\n",
    "plots = stp_interpreter.feature_importance.plot_feature_importance(stp_im_model, ascending=False)\n"
   ]
  },
  {
   "cell_type": "markdown",
   "metadata": {},
   "source": [
    "## ROC Curve for all networks"
   ]
  },
  {
   "cell_type": "code",
   "execution_count": null,
   "metadata": {},
   "outputs": [],
   "source": [
    "# Plot all ROC curve together\n",
    "import matplotlib.pyplot as plt\n",
    "fig = plt.figure(1)\n",
    "plt.xlim(0, 1)\n",
    "plt.ylim(0, 1)\n",
    "plt.plot([0, 1], [0, 1], 'k--')\n",
    "plt.plot(fpr_lr, tpr_lr, label='LR (area = {:.2f})'.format(auc_lr))\n",
    "plt.plot(fpr_dnn, tpr_dnn, label='DNN (area = {:.2f})'.format(auc_dnn))\n",
    "plt.plot(fpr_dt, tpr_dt, label='DT (area = {:.2f})'.format(auc_dt))\n",
    "plt.plot(fpr_rf, tpr_rf, label='RF (area = {:.2f})'.format(auc_rf))\n",
    "plt.plot(fpr_rft, tpr_rft, label='RFT (area = {:.2f})'.format(auc_rft))\n",
    "plt.plot(fpr_svm, tpr_svm, label='SVM (area = {:.2f})'.format(auc_rft))\n",
    "plt.xlabel('False Positive Rate/Specificity')\n",
    "plt.ylabel('True Positive Rate/Sensitivity')\n",
    "plt.title('ROC Curve')\n",
    "plt.legend(loc='best')\n",
    "plt.show()\n",
    "\n",
    "#fig.savefig('All ROC Curves.png', bbox_inches='tight')"
   ]
  },
  {
   "cell_type": "code",
   "execution_count": null,
   "metadata": {},
   "outputs": [],
   "source": [
    "# Plot all ROC curve together\n",
    "import matplotlib.pyplot as plt\n",
    "fig = plt.figure(1)\n",
    "plt.xlim(0, 1)\n",
    "plt.ylim(0, 1)\n",
    "plt.plot([0, 1], [0, 1], 'k--')\n",
    "plt.plot(fpr_lr, tpr_lr, label='LR (area = {:.3f})'.format(auc_lr))\n",
    "plt.plot(fpr_dnn, tpr_dnn, label='DNN (area = {:.3f})'.format(auc_dnn))\n",
    "plt.plot(fpr_dt, tpr_dt, label='DT (area = {:.3f})'.format(auc_dt))\n",
    "plt.plot(fpr_rf, tpr_rf, label='RF (area = {:.3f})'.format(auc_rf))\n",
    "plt.plot(fpr_rft, tpr_rft, label='RFT (area = {:.3f})'.format(auc_rft))\n",
    "plt.plot(fpr_svm, tpr_svm, label='SVM (area = {:.3f})'.format(auc_rft))\n",
    "plt.xlabel('False Positive Rate/Specificity')\n",
    "plt.ylabel('True Positive Rate/Sensitivity')\n",
    "plt.title('ROC Curve')\n",
    "plt.legend(loc='best')\n",
    "plt.show()\n",
    "\n",
    "#fig.savefig('All ROC Curves.png', bbox_inches='tight')"
   ]
  },
  {
   "cell_type": "markdown",
   "metadata": {},
   "source": [
    "## Precision-Recall Curve all together"
   ]
  },
  {
   "cell_type": "code",
   "execution_count": null,
   "metadata": {},
   "outputs": [],
   "source": [
    "# Plot all Precision-Recall curve all together\n",
    "fig = plt.figure(1)\n",
    "#plt.xlim(0, 1)\n",
    "#plt.ylim(0, 1)\n",
    "#plt.plot([0, 1], [0, 1], 'k--')\n",
    "plt.plot(lr_precision, lr_recall, label='LR')\n",
    "plt.plot(dnn_precision, dnn_recall, label='DNN')\n",
    "plt.plot(dt_precision, dt_recall, label='DT')\n",
    "plt.plot(rf_precision, rf_recall, label='RF')\n",
    "plt.plot(rft_precision, rft_recall, label='RFT')\n",
    "plt.plot(svm_precision, svm_recall, label='SVM') \n",
    "plt.xlabel('Recall')\n",
    "plt.ylabel('Precision')\n",
    "plt.title('Precision-Recall Curve')\n",
    "plt.legend(loc='best')\n",
    "plt.show()\n",
    "#fig.savefig('All Precision-Recall Curves.png', bbox_inches='tight')"
   ]
  },
  {
   "cell_type": "code",
   "execution_count": null,
   "metadata": {},
   "outputs": [],
   "source": [
    "# Plot all Precision-Recall curve all together\n",
    "plt.figure(1)\n",
    "plt.xlim(0, 1)\n",
    "plt.ylim(0, 1)\n",
    "#plt.plot([0, 1], [0, 1], 'k--')\n",
    "plt.plot(lr_precision, lr_recall, label='LR')\n",
    "plt.plot(dnn_precision, dnn_recall, label='DNN')\n",
    "plt.plot(dt_precision, dt_recall, label='DT')\n",
    "plt.plot(rf_precision, rf_recall, label='RF')\n",
    "plt.plot(rft_precision, rft_recall, label='RFT') \n",
    "plt.xlabel('Recall')\n",
    "plt.ylabel('Precision')\n",
    "plt.title('Precision-Recall Curve')\n",
    "plt.legend(loc='best')\n",
    "plt.show()"
   ]
  },
  {
   "cell_type": "code",
   "execution_count": null,
   "metadata": {},
   "outputs": [],
   "source": []
  }
 ],
 "metadata": {
  "kernelspec": {
   "display_name": "Python 3",
   "language": "python",
   "name": "python3"
  },
  "language_info": {
   "codemirror_mode": {
    "name": "ipython",
    "version": 3
   },
   "file_extension": ".py",
   "mimetype": "text/x-python",
   "name": "python",
   "nbconvert_exporter": "python",
   "pygments_lexer": "ipython3",
   "version": "3.7.4"
  }
 },
 "nbformat": 4,
 "nbformat_minor": 2
}
